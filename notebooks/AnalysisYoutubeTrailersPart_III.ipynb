{
  "cells": [
    {
      "cell_type": "markdown",
      "metadata": {
        "id": "5hINehdHyEY0"
      },
      "source": [
        "# Requirements"
      ]
    },
    {
      "cell_type": "code",
      "execution_count": 4,
      "metadata": {
        "id": "IfSNiZNCyMiK"
      },
      "outputs": [],
      "source": [
        "import pandas as pd\n",
        "import numpy as np\n",
        "import matplotlib.pyplot as plt\n",
        "import seaborn as sns\n",
        "\n",
        "from sklearn.feature_selection import SelectKBest, chi2, f_classif\n",
        "from sklearn.model_selection import train_test_split\n",
        "from sklearn.tree import DecisionTreeClassifier\n",
        "from sklearn.linear_model import LogisticRegression\n",
        "from sklearn.ensemble import RandomForestClassifier\n",
        "from sklearn.metrics import accuracy_score, classification_report, confusion_matrix\n",
        "from sklearn.preprocessing import LabelEncoder\n",
        "from sklearn.impute import SimpleImputer\n",
        "\n",
        "import ast"
      ]
    },
    {
      "cell_type": "markdown",
      "metadata": {
        "id": "ECG5pwV7gRe-"
      },
      "source": [
        "# 📝 Proyecto Final –  Análisis exploratorio de sentimientos y rendimiento en trailers de películas\n"
      ]
    },
    {
      "cell_type": "markdown",
      "metadata": {
        "id": "Vj6MhMEaYUQK"
      },
      "source": [
        "### Cargar el dataset\n"
      ]
    },
    {
      "cell_type": "code",
      "execution_count": 5,
      "metadata": {
        "id": "a8b620b0",
        "outputId": "eb98a37c-f544-4948-b9ac-6ebeff4b92f2",
        "colab": {
          "base_uri": "https://localhost:8080/"
        }
      },
      "outputs": [
        {
          "output_type": "stream",
          "name": "stdout",
          "text": [
            "<class 'pandas.core.frame.DataFrame'>\n",
            "RangeIndex: 1105 entries, 0 to 1104\n",
            "Data columns (total 44 columns):\n",
            " #   Column             Non-Null Count  Dtype  \n",
            "---  ------             --------------  -----  \n",
            " 0   name               1105 non-null   object \n",
            " 1   trailer_link       1105 non-null   object \n",
            " 2   sentiment_scores   1105 non-null   object \n",
            " 3   favorability       1105 non-null   float64\n",
            " 4   rating             1104 non-null   object \n",
            " 5   genre              1105 non-null   object \n",
            " 6   year               1105 non-null   int64  \n",
            " 7   released           1105 non-null   object \n",
            " 8   votes              1105 non-null   float64\n",
            " 9   director           1105 non-null   object \n",
            " 10  writer             1104 non-null   object \n",
            " 11  star               1105 non-null   object \n",
            " 12  country            1105 non-null   object \n",
            " 13  budget             901 non-null    float64\n",
            " 14  gross              1105 non-null   float64\n",
            " 15  company            1105 non-null   object \n",
            " 16  runtime            1104 non-null   float64\n",
            " 17  positive           1105 non-null   int64  \n",
            " 18  neutral            1105 non-null   int64  \n",
            " 19  negative           1105 non-null   int64  \n",
            " 20  total_comments     1105 non-null   int64  \n",
            " 21  positive_ratio     1105 non-null   float64\n",
            " 22  emotional_balance  1105 non-null   int64  \n",
            " 23  genre_Action       1105 non-null   int64  \n",
            " 24  genre_Adventure    1105 non-null   int64  \n",
            " 25  genre_Animation    1105 non-null   int64  \n",
            " 26  genre_Biography    1105 non-null   int64  \n",
            " 27  genre_Comedy       1105 non-null   int64  \n",
            " 28  genre_Crime        1105 non-null   int64  \n",
            " 29  genre_Drama        1105 non-null   int64  \n",
            " 30  genre_Fantasy      1105 non-null   int64  \n",
            " 31  genre_Horror       1105 non-null   int64  \n",
            " 32  genre_Mystery      1105 non-null   int64  \n",
            " 33  genre_Romance      1105 non-null   int64  \n",
            " 34  genre_Sci-Fi       1105 non-null   int64  \n",
            " 35  genre_Thriller     1105 non-null   int64  \n",
            " 36  rating_G           1105 non-null   int64  \n",
            " 37  rating_NC-17       1105 non-null   int64  \n",
            " 38  rating_Not Rated   1105 non-null   int64  \n",
            " 39  rating_PG          1105 non-null   int64  \n",
            " 40  rating_PG-13       1105 non-null   int64  \n",
            " 41  rating_R           1105 non-null   int64  \n",
            " 42  rating_TV-MA       1105 non-null   int64  \n",
            " 43  rating_Unrated     1105 non-null   int64  \n",
            "dtypes: float64(6), int64(27), object(11)\n",
            "memory usage: 380.0+ KB\n"
          ]
        }
      ],
      "source": [
        "url = \"https://raw.githubusercontent.com/JotaNota/YoutubeTrailer_ML/Part_III_Model/data/processed/data_trailer_EDA_I.csv\"\n",
        "df_final = pd.read_csv(url)\n",
        "\n",
        "df_final.info()"
      ]
    },
    {
      "cell_type": "code",
      "execution_count": 6,
      "metadata": {
        "id": "EqO27tcBYaCK",
        "collapsed": true,
        "colab": {
          "base_uri": "https://localhost:8080/",
          "height": 367
        },
        "outputId": "63d3cb3d-ccfa-499b-ccde-ed28c444346b"
      },
      "outputs": [
        {
          "output_type": "execute_result",
          "data": {
            "text/plain": [
              "       favorability         year         votes        budget         gross  \\\n",
              "count   1105.000000  1105.000000  1.105000e+03  9.010000e+02  1.105000e+03   \n",
              "mean       0.679717  2010.043439  1.364592e+05  4.306125e+07  1.060908e+08   \n",
              "std        0.132921     6.095252  1.728636e+05  4.692794e+07  1.698105e+08   \n",
              "min        0.000000  1980.000000  3.360000e+02  1.500000e+04  1.808000e+03   \n",
              "25%        0.610390  2007.000000  3.400000e+04  1.200000e+07  1.060642e+07   \n",
              "50%        0.689655  2010.000000  7.300000e+04  2.800000e+07  4.473466e+07   \n",
              "75%        0.760000  2014.000000  1.670000e+05  5.500000e+07  1.258562e+08   \n",
              "max        1.000000  2019.000000  1.600000e+06  3.000000e+08  1.236005e+09   \n",
              "\n",
              "           runtime     positive      neutral     negative  total_comments  \\\n",
              "count  1104.000000  1105.000000  1105.000000  1105.000000     1105.000000   \n",
              "mean    109.175725    78.871493    69.002715    38.382805      186.257014   \n",
              "std      16.974139    40.382767    36.440081    24.597320       88.328556   \n",
              "min      75.000000     0.000000     0.000000     0.000000        1.000000   \n",
              "25%      96.750000    45.000000    39.000000    18.000000      105.000000   \n",
              "50%     106.000000    89.000000    77.000000    38.000000      250.000000   \n",
              "75%     118.000000   110.000000    95.000000    54.000000      250.000000   \n",
              "max     193.000000   164.000000   212.000000   127.000000      251.000000   \n",
              "\n",
              "       ...  genre_Sci-Fi  genre_Thriller     rating_G  rating_NC-17  \\\n",
              "count  ...   1105.000000     1105.000000  1105.000000   1105.000000   \n",
              "mean   ...      0.001810        0.000905     0.005430      0.001810   \n",
              "std    ...      0.042524        0.030083     0.073521      0.042524   \n",
              "min    ...      0.000000        0.000000     0.000000      0.000000   \n",
              "25%    ...      0.000000        0.000000     0.000000      0.000000   \n",
              "50%    ...      0.000000        0.000000     0.000000      0.000000   \n",
              "75%    ...      0.000000        0.000000     0.000000      0.000000   \n",
              "max    ...      1.000000        1.000000     1.000000      1.000000   \n",
              "\n",
              "       rating_Not Rated    rating_PG  rating_PG-13     rating_R  rating_TV-MA  \\\n",
              "count       1105.000000  1105.000000   1105.000000  1105.000000   1105.000000   \n",
              "mean           0.035294     0.082353      0.373756     0.492308      0.002715   \n",
              "std            0.184606     0.275026      0.484019     0.500167      0.052058   \n",
              "min            0.000000     0.000000      0.000000     0.000000      0.000000   \n",
              "25%            0.000000     0.000000      0.000000     0.000000      0.000000   \n",
              "50%            0.000000     0.000000      0.000000     0.000000      0.000000   \n",
              "75%            0.000000     0.000000      1.000000     1.000000      0.000000   \n",
              "max            1.000000     1.000000      1.000000     1.000000      1.000000   \n",
              "\n",
              "       rating_Unrated  \n",
              "count     1105.000000  \n",
              "mean         0.005430  \n",
              "std          0.073521  \n",
              "min          0.000000  \n",
              "25%          0.000000  \n",
              "50%          0.000000  \n",
              "75%          0.000000  \n",
              "max          1.000000  \n",
              "\n",
              "[8 rows x 33 columns]"
            ],
            "text/html": [
              "\n",
              "  <div id=\"df-7a839bda-04af-4ef2-96b9-7c4d652a0eb8\" class=\"colab-df-container\">\n",
              "    <div>\n",
              "<style scoped>\n",
              "    .dataframe tbody tr th:only-of-type {\n",
              "        vertical-align: middle;\n",
              "    }\n",
              "\n",
              "    .dataframe tbody tr th {\n",
              "        vertical-align: top;\n",
              "    }\n",
              "\n",
              "    .dataframe thead th {\n",
              "        text-align: right;\n",
              "    }\n",
              "</style>\n",
              "<table border=\"1\" class=\"dataframe\">\n",
              "  <thead>\n",
              "    <tr style=\"text-align: right;\">\n",
              "      <th></th>\n",
              "      <th>favorability</th>\n",
              "      <th>year</th>\n",
              "      <th>votes</th>\n",
              "      <th>budget</th>\n",
              "      <th>gross</th>\n",
              "      <th>runtime</th>\n",
              "      <th>positive</th>\n",
              "      <th>neutral</th>\n",
              "      <th>negative</th>\n",
              "      <th>total_comments</th>\n",
              "      <th>...</th>\n",
              "      <th>genre_Sci-Fi</th>\n",
              "      <th>genre_Thriller</th>\n",
              "      <th>rating_G</th>\n",
              "      <th>rating_NC-17</th>\n",
              "      <th>rating_Not Rated</th>\n",
              "      <th>rating_PG</th>\n",
              "      <th>rating_PG-13</th>\n",
              "      <th>rating_R</th>\n",
              "      <th>rating_TV-MA</th>\n",
              "      <th>rating_Unrated</th>\n",
              "    </tr>\n",
              "  </thead>\n",
              "  <tbody>\n",
              "    <tr>\n",
              "      <th>count</th>\n",
              "      <td>1105.000000</td>\n",
              "      <td>1105.000000</td>\n",
              "      <td>1.105000e+03</td>\n",
              "      <td>9.010000e+02</td>\n",
              "      <td>1.105000e+03</td>\n",
              "      <td>1104.000000</td>\n",
              "      <td>1105.000000</td>\n",
              "      <td>1105.000000</td>\n",
              "      <td>1105.000000</td>\n",
              "      <td>1105.000000</td>\n",
              "      <td>...</td>\n",
              "      <td>1105.000000</td>\n",
              "      <td>1105.000000</td>\n",
              "      <td>1105.000000</td>\n",
              "      <td>1105.000000</td>\n",
              "      <td>1105.000000</td>\n",
              "      <td>1105.000000</td>\n",
              "      <td>1105.000000</td>\n",
              "      <td>1105.000000</td>\n",
              "      <td>1105.000000</td>\n",
              "      <td>1105.000000</td>\n",
              "    </tr>\n",
              "    <tr>\n",
              "      <th>mean</th>\n",
              "      <td>0.679717</td>\n",
              "      <td>2010.043439</td>\n",
              "      <td>1.364592e+05</td>\n",
              "      <td>4.306125e+07</td>\n",
              "      <td>1.060908e+08</td>\n",
              "      <td>109.175725</td>\n",
              "      <td>78.871493</td>\n",
              "      <td>69.002715</td>\n",
              "      <td>38.382805</td>\n",
              "      <td>186.257014</td>\n",
              "      <td>...</td>\n",
              "      <td>0.001810</td>\n",
              "      <td>0.000905</td>\n",
              "      <td>0.005430</td>\n",
              "      <td>0.001810</td>\n",
              "      <td>0.035294</td>\n",
              "      <td>0.082353</td>\n",
              "      <td>0.373756</td>\n",
              "      <td>0.492308</td>\n",
              "      <td>0.002715</td>\n",
              "      <td>0.005430</td>\n",
              "    </tr>\n",
              "    <tr>\n",
              "      <th>std</th>\n",
              "      <td>0.132921</td>\n",
              "      <td>6.095252</td>\n",
              "      <td>1.728636e+05</td>\n",
              "      <td>4.692794e+07</td>\n",
              "      <td>1.698105e+08</td>\n",
              "      <td>16.974139</td>\n",
              "      <td>40.382767</td>\n",
              "      <td>36.440081</td>\n",
              "      <td>24.597320</td>\n",
              "      <td>88.328556</td>\n",
              "      <td>...</td>\n",
              "      <td>0.042524</td>\n",
              "      <td>0.030083</td>\n",
              "      <td>0.073521</td>\n",
              "      <td>0.042524</td>\n",
              "      <td>0.184606</td>\n",
              "      <td>0.275026</td>\n",
              "      <td>0.484019</td>\n",
              "      <td>0.500167</td>\n",
              "      <td>0.052058</td>\n",
              "      <td>0.073521</td>\n",
              "    </tr>\n",
              "    <tr>\n",
              "      <th>min</th>\n",
              "      <td>0.000000</td>\n",
              "      <td>1980.000000</td>\n",
              "      <td>3.360000e+02</td>\n",
              "      <td>1.500000e+04</td>\n",
              "      <td>1.808000e+03</td>\n",
              "      <td>75.000000</td>\n",
              "      <td>0.000000</td>\n",
              "      <td>0.000000</td>\n",
              "      <td>0.000000</td>\n",
              "      <td>1.000000</td>\n",
              "      <td>...</td>\n",
              "      <td>0.000000</td>\n",
              "      <td>0.000000</td>\n",
              "      <td>0.000000</td>\n",
              "      <td>0.000000</td>\n",
              "      <td>0.000000</td>\n",
              "      <td>0.000000</td>\n",
              "      <td>0.000000</td>\n",
              "      <td>0.000000</td>\n",
              "      <td>0.000000</td>\n",
              "      <td>0.000000</td>\n",
              "    </tr>\n",
              "    <tr>\n",
              "      <th>25%</th>\n",
              "      <td>0.610390</td>\n",
              "      <td>2007.000000</td>\n",
              "      <td>3.400000e+04</td>\n",
              "      <td>1.200000e+07</td>\n",
              "      <td>1.060642e+07</td>\n",
              "      <td>96.750000</td>\n",
              "      <td>45.000000</td>\n",
              "      <td>39.000000</td>\n",
              "      <td>18.000000</td>\n",
              "      <td>105.000000</td>\n",
              "      <td>...</td>\n",
              "      <td>0.000000</td>\n",
              "      <td>0.000000</td>\n",
              "      <td>0.000000</td>\n",
              "      <td>0.000000</td>\n",
              "      <td>0.000000</td>\n",
              "      <td>0.000000</td>\n",
              "      <td>0.000000</td>\n",
              "      <td>0.000000</td>\n",
              "      <td>0.000000</td>\n",
              "      <td>0.000000</td>\n",
              "    </tr>\n",
              "    <tr>\n",
              "      <th>50%</th>\n",
              "      <td>0.689655</td>\n",
              "      <td>2010.000000</td>\n",
              "      <td>7.300000e+04</td>\n",
              "      <td>2.800000e+07</td>\n",
              "      <td>4.473466e+07</td>\n",
              "      <td>106.000000</td>\n",
              "      <td>89.000000</td>\n",
              "      <td>77.000000</td>\n",
              "      <td>38.000000</td>\n",
              "      <td>250.000000</td>\n",
              "      <td>...</td>\n",
              "      <td>0.000000</td>\n",
              "      <td>0.000000</td>\n",
              "      <td>0.000000</td>\n",
              "      <td>0.000000</td>\n",
              "      <td>0.000000</td>\n",
              "      <td>0.000000</td>\n",
              "      <td>0.000000</td>\n",
              "      <td>0.000000</td>\n",
              "      <td>0.000000</td>\n",
              "      <td>0.000000</td>\n",
              "    </tr>\n",
              "    <tr>\n",
              "      <th>75%</th>\n",
              "      <td>0.760000</td>\n",
              "      <td>2014.000000</td>\n",
              "      <td>1.670000e+05</td>\n",
              "      <td>5.500000e+07</td>\n",
              "      <td>1.258562e+08</td>\n",
              "      <td>118.000000</td>\n",
              "      <td>110.000000</td>\n",
              "      <td>95.000000</td>\n",
              "      <td>54.000000</td>\n",
              "      <td>250.000000</td>\n",
              "      <td>...</td>\n",
              "      <td>0.000000</td>\n",
              "      <td>0.000000</td>\n",
              "      <td>0.000000</td>\n",
              "      <td>0.000000</td>\n",
              "      <td>0.000000</td>\n",
              "      <td>0.000000</td>\n",
              "      <td>1.000000</td>\n",
              "      <td>1.000000</td>\n",
              "      <td>0.000000</td>\n",
              "      <td>0.000000</td>\n",
              "    </tr>\n",
              "    <tr>\n",
              "      <th>max</th>\n",
              "      <td>1.000000</td>\n",
              "      <td>2019.000000</td>\n",
              "      <td>1.600000e+06</td>\n",
              "      <td>3.000000e+08</td>\n",
              "      <td>1.236005e+09</td>\n",
              "      <td>193.000000</td>\n",
              "      <td>164.000000</td>\n",
              "      <td>212.000000</td>\n",
              "      <td>127.000000</td>\n",
              "      <td>251.000000</td>\n",
              "      <td>...</td>\n",
              "      <td>1.000000</td>\n",
              "      <td>1.000000</td>\n",
              "      <td>1.000000</td>\n",
              "      <td>1.000000</td>\n",
              "      <td>1.000000</td>\n",
              "      <td>1.000000</td>\n",
              "      <td>1.000000</td>\n",
              "      <td>1.000000</td>\n",
              "      <td>1.000000</td>\n",
              "      <td>1.000000</td>\n",
              "    </tr>\n",
              "  </tbody>\n",
              "</table>\n",
              "<p>8 rows × 33 columns</p>\n",
              "</div>\n",
              "    <div class=\"colab-df-buttons\">\n",
              "\n",
              "  <div class=\"colab-df-container\">\n",
              "    <button class=\"colab-df-convert\" onclick=\"convertToInteractive('df-7a839bda-04af-4ef2-96b9-7c4d652a0eb8')\"\n",
              "            title=\"Convert this dataframe to an interactive table.\"\n",
              "            style=\"display:none;\">\n",
              "\n",
              "  <svg xmlns=\"http://www.w3.org/2000/svg\" height=\"24px\" viewBox=\"0 -960 960 960\">\n",
              "    <path d=\"M120-120v-720h720v720H120Zm60-500h600v-160H180v160Zm220 220h160v-160H400v160Zm0 220h160v-160H400v160ZM180-400h160v-160H180v160Zm440 0h160v-160H620v160ZM180-180h160v-160H180v160Zm440 0h160v-160H620v160Z\"/>\n",
              "  </svg>\n",
              "    </button>\n",
              "\n",
              "  <style>\n",
              "    .colab-df-container {\n",
              "      display:flex;\n",
              "      gap: 12px;\n",
              "    }\n",
              "\n",
              "    .colab-df-convert {\n",
              "      background-color: #E8F0FE;\n",
              "      border: none;\n",
              "      border-radius: 50%;\n",
              "      cursor: pointer;\n",
              "      display: none;\n",
              "      fill: #1967D2;\n",
              "      height: 32px;\n",
              "      padding: 0 0 0 0;\n",
              "      width: 32px;\n",
              "    }\n",
              "\n",
              "    .colab-df-convert:hover {\n",
              "      background-color: #E2EBFA;\n",
              "      box-shadow: 0px 1px 2px rgba(60, 64, 67, 0.3), 0px 1px 3px 1px rgba(60, 64, 67, 0.15);\n",
              "      fill: #174EA6;\n",
              "    }\n",
              "\n",
              "    .colab-df-buttons div {\n",
              "      margin-bottom: 4px;\n",
              "    }\n",
              "\n",
              "    [theme=dark] .colab-df-convert {\n",
              "      background-color: #3B4455;\n",
              "      fill: #D2E3FC;\n",
              "    }\n",
              "\n",
              "    [theme=dark] .colab-df-convert:hover {\n",
              "      background-color: #434B5C;\n",
              "      box-shadow: 0px 1px 3px 1px rgba(0, 0, 0, 0.15);\n",
              "      filter: drop-shadow(0px 1px 2px rgba(0, 0, 0, 0.3));\n",
              "      fill: #FFFFFF;\n",
              "    }\n",
              "  </style>\n",
              "\n",
              "    <script>\n",
              "      const buttonEl =\n",
              "        document.querySelector('#df-7a839bda-04af-4ef2-96b9-7c4d652a0eb8 button.colab-df-convert');\n",
              "      buttonEl.style.display =\n",
              "        google.colab.kernel.accessAllowed ? 'block' : 'none';\n",
              "\n",
              "      async function convertToInteractive(key) {\n",
              "        const element = document.querySelector('#df-7a839bda-04af-4ef2-96b9-7c4d652a0eb8');\n",
              "        const dataTable =\n",
              "          await google.colab.kernel.invokeFunction('convertToInteractive',\n",
              "                                                    [key], {});\n",
              "        if (!dataTable) return;\n",
              "\n",
              "        const docLinkHtml = 'Like what you see? Visit the ' +\n",
              "          '<a target=\"_blank\" href=https://colab.research.google.com/notebooks/data_table.ipynb>data table notebook</a>'\n",
              "          + ' to learn more about interactive tables.';\n",
              "        element.innerHTML = '';\n",
              "        dataTable['output_type'] = 'display_data';\n",
              "        await google.colab.output.renderOutput(dataTable, element);\n",
              "        const docLink = document.createElement('div');\n",
              "        docLink.innerHTML = docLinkHtml;\n",
              "        element.appendChild(docLink);\n",
              "      }\n",
              "    </script>\n",
              "  </div>\n",
              "\n",
              "\n",
              "    <div id=\"df-ed8d6300-7ea2-4695-8cd4-d66688efdc7a\">\n",
              "      <button class=\"colab-df-quickchart\" onclick=\"quickchart('df-ed8d6300-7ea2-4695-8cd4-d66688efdc7a')\"\n",
              "                title=\"Suggest charts\"\n",
              "                style=\"display:none;\">\n",
              "\n",
              "<svg xmlns=\"http://www.w3.org/2000/svg\" height=\"24px\"viewBox=\"0 0 24 24\"\n",
              "     width=\"24px\">\n",
              "    <g>\n",
              "        <path d=\"M19 3H5c-1.1 0-2 .9-2 2v14c0 1.1.9 2 2 2h14c1.1 0 2-.9 2-2V5c0-1.1-.9-2-2-2zM9 17H7v-7h2v7zm4 0h-2V7h2v10zm4 0h-2v-4h2v4z\"/>\n",
              "    </g>\n",
              "</svg>\n",
              "      </button>\n",
              "\n",
              "<style>\n",
              "  .colab-df-quickchart {\n",
              "      --bg-color: #E8F0FE;\n",
              "      --fill-color: #1967D2;\n",
              "      --hover-bg-color: #E2EBFA;\n",
              "      --hover-fill-color: #174EA6;\n",
              "      --disabled-fill-color: #AAA;\n",
              "      --disabled-bg-color: #DDD;\n",
              "  }\n",
              "\n",
              "  [theme=dark] .colab-df-quickchart {\n",
              "      --bg-color: #3B4455;\n",
              "      --fill-color: #D2E3FC;\n",
              "      --hover-bg-color: #434B5C;\n",
              "      --hover-fill-color: #FFFFFF;\n",
              "      --disabled-bg-color: #3B4455;\n",
              "      --disabled-fill-color: #666;\n",
              "  }\n",
              "\n",
              "  .colab-df-quickchart {\n",
              "    background-color: var(--bg-color);\n",
              "    border: none;\n",
              "    border-radius: 50%;\n",
              "    cursor: pointer;\n",
              "    display: none;\n",
              "    fill: var(--fill-color);\n",
              "    height: 32px;\n",
              "    padding: 0;\n",
              "    width: 32px;\n",
              "  }\n",
              "\n",
              "  .colab-df-quickchart:hover {\n",
              "    background-color: var(--hover-bg-color);\n",
              "    box-shadow: 0 1px 2px rgba(60, 64, 67, 0.3), 0 1px 3px 1px rgba(60, 64, 67, 0.15);\n",
              "    fill: var(--button-hover-fill-color);\n",
              "  }\n",
              "\n",
              "  .colab-df-quickchart-complete:disabled,\n",
              "  .colab-df-quickchart-complete:disabled:hover {\n",
              "    background-color: var(--disabled-bg-color);\n",
              "    fill: var(--disabled-fill-color);\n",
              "    box-shadow: none;\n",
              "  }\n",
              "\n",
              "  .colab-df-spinner {\n",
              "    border: 2px solid var(--fill-color);\n",
              "    border-color: transparent;\n",
              "    border-bottom-color: var(--fill-color);\n",
              "    animation:\n",
              "      spin 1s steps(1) infinite;\n",
              "  }\n",
              "\n",
              "  @keyframes spin {\n",
              "    0% {\n",
              "      border-color: transparent;\n",
              "      border-bottom-color: var(--fill-color);\n",
              "      border-left-color: var(--fill-color);\n",
              "    }\n",
              "    20% {\n",
              "      border-color: transparent;\n",
              "      border-left-color: var(--fill-color);\n",
              "      border-top-color: var(--fill-color);\n",
              "    }\n",
              "    30% {\n",
              "      border-color: transparent;\n",
              "      border-left-color: var(--fill-color);\n",
              "      border-top-color: var(--fill-color);\n",
              "      border-right-color: var(--fill-color);\n",
              "    }\n",
              "    40% {\n",
              "      border-color: transparent;\n",
              "      border-right-color: var(--fill-color);\n",
              "      border-top-color: var(--fill-color);\n",
              "    }\n",
              "    60% {\n",
              "      border-color: transparent;\n",
              "      border-right-color: var(--fill-color);\n",
              "    }\n",
              "    80% {\n",
              "      border-color: transparent;\n",
              "      border-right-color: var(--fill-color);\n",
              "      border-bottom-color: var(--fill-color);\n",
              "    }\n",
              "    90% {\n",
              "      border-color: transparent;\n",
              "      border-bottom-color: var(--fill-color);\n",
              "    }\n",
              "  }\n",
              "</style>\n",
              "\n",
              "      <script>\n",
              "        async function quickchart(key) {\n",
              "          const quickchartButtonEl =\n",
              "            document.querySelector('#' + key + ' button');\n",
              "          quickchartButtonEl.disabled = true;  // To prevent multiple clicks.\n",
              "          quickchartButtonEl.classList.add('colab-df-spinner');\n",
              "          try {\n",
              "            const charts = await google.colab.kernel.invokeFunction(\n",
              "                'suggestCharts', [key], {});\n",
              "          } catch (error) {\n",
              "            console.error('Error during call to suggestCharts:', error);\n",
              "          }\n",
              "          quickchartButtonEl.classList.remove('colab-df-spinner');\n",
              "          quickchartButtonEl.classList.add('colab-df-quickchart-complete');\n",
              "        }\n",
              "        (() => {\n",
              "          let quickchartButtonEl =\n",
              "            document.querySelector('#df-ed8d6300-7ea2-4695-8cd4-d66688efdc7a button');\n",
              "          quickchartButtonEl.style.display =\n",
              "            google.colab.kernel.accessAllowed ? 'block' : 'none';\n",
              "        })();\n",
              "      </script>\n",
              "    </div>\n",
              "\n",
              "    </div>\n",
              "  </div>\n"
            ],
            "application/vnd.google.colaboratory.intrinsic+json": {
              "type": "dataframe"
            }
          },
          "metadata": {},
          "execution_count": 6
        }
      ],
      "source": [
        "df_final.describe()"
      ]
    },
    {
      "cell_type": "markdown",
      "metadata": {
        "id": "gTj44Srnd0Dx"
      },
      "source": [
        "### Paso 2 — Crear la métrica favorability_ratio\n"
      ]
    },
    {
      "cell_type": "markdown",
      "source": [
        "#### 📌 Justificación del cálculo de `favorability_ratio` y creación del target\n",
        "\n",
        "- Se asigna un **peso de 0.25 a los comentarios neutros**.  \n",
        "- El objetivo es **evitar que los neutros “aplasten” la métrica** e incorporarlos de forma moderada.   \n",
        "- Esto Evita que tráilers con miles de neutros sean clasificados exitososo cuando tienen pocos positivos o como fallidos con pocos negativos.  \n",
        "- El resultado es una `favorability_ratio` más útil para modelado supervisado.  \n",
        "- Le dará mayor impacto a los pocos positivos o negativos.\n",
        "\n",
        "🔹 **Ejemplo:**  \n",
        "- 1000 neutros, 10 positivos, 5 negativos → `favorability_ratio ≈ 0.50`  \n",
        "Si los **neutros valen 0.5** → aplasta la variabilidad y hace que casi todo sea “neutral”.  \n",
        "\n",
        "- Si los **neutros valen 0.25** → se aplanan los datos y se da mayor peso relativo a positivos y negativos, genera más contraste en la métrica.  \n"
      ],
      "metadata": {
        "id": "pEXmwU_P8qhE"
      }
    },
    {
      "cell_type": "code",
      "execution_count": 7,
      "metadata": {
        "id": "I804RU-YZiNB",
        "colab": {
          "base_uri": "https://localhost:8080/",
          "height": 206
        },
        "outputId": "dd63e563-8163-4eaf-dda1-818abcda4337"
      },
      "outputs": [
        {
          "output_type": "execute_result",
          "data": {
            "text/plain": [
              "   positive  neutral  negative  favorability_ratio\n",
              "0        87      112        51            0.460000\n",
              "1        40       45        18            0.497573\n",
              "2       120       89        41            0.569000\n",
              "3        93       98        19            0.559524\n",
              "4       128       97        25            0.609000"
            ],
            "text/html": [
              "\n",
              "  <div id=\"df-207f2f5a-052e-4a07-96b1-b0aa8d78337d\" class=\"colab-df-container\">\n",
              "    <div>\n",
              "<style scoped>\n",
              "    .dataframe tbody tr th:only-of-type {\n",
              "        vertical-align: middle;\n",
              "    }\n",
              "\n",
              "    .dataframe tbody tr th {\n",
              "        vertical-align: top;\n",
              "    }\n",
              "\n",
              "    .dataframe thead th {\n",
              "        text-align: right;\n",
              "    }\n",
              "</style>\n",
              "<table border=\"1\" class=\"dataframe\">\n",
              "  <thead>\n",
              "    <tr style=\"text-align: right;\">\n",
              "      <th></th>\n",
              "      <th>positive</th>\n",
              "      <th>neutral</th>\n",
              "      <th>negative</th>\n",
              "      <th>favorability_ratio</th>\n",
              "    </tr>\n",
              "  </thead>\n",
              "  <tbody>\n",
              "    <tr>\n",
              "      <th>0</th>\n",
              "      <td>87</td>\n",
              "      <td>112</td>\n",
              "      <td>51</td>\n",
              "      <td>0.460000</td>\n",
              "    </tr>\n",
              "    <tr>\n",
              "      <th>1</th>\n",
              "      <td>40</td>\n",
              "      <td>45</td>\n",
              "      <td>18</td>\n",
              "      <td>0.497573</td>\n",
              "    </tr>\n",
              "    <tr>\n",
              "      <th>2</th>\n",
              "      <td>120</td>\n",
              "      <td>89</td>\n",
              "      <td>41</td>\n",
              "      <td>0.569000</td>\n",
              "    </tr>\n",
              "    <tr>\n",
              "      <th>3</th>\n",
              "      <td>93</td>\n",
              "      <td>98</td>\n",
              "      <td>19</td>\n",
              "      <td>0.559524</td>\n",
              "    </tr>\n",
              "    <tr>\n",
              "      <th>4</th>\n",
              "      <td>128</td>\n",
              "      <td>97</td>\n",
              "      <td>25</td>\n",
              "      <td>0.609000</td>\n",
              "    </tr>\n",
              "  </tbody>\n",
              "</table>\n",
              "</div>\n",
              "    <div class=\"colab-df-buttons\">\n",
              "\n",
              "  <div class=\"colab-df-container\">\n",
              "    <button class=\"colab-df-convert\" onclick=\"convertToInteractive('df-207f2f5a-052e-4a07-96b1-b0aa8d78337d')\"\n",
              "            title=\"Convert this dataframe to an interactive table.\"\n",
              "            style=\"display:none;\">\n",
              "\n",
              "  <svg xmlns=\"http://www.w3.org/2000/svg\" height=\"24px\" viewBox=\"0 -960 960 960\">\n",
              "    <path d=\"M120-120v-720h720v720H120Zm60-500h600v-160H180v160Zm220 220h160v-160H400v160Zm0 220h160v-160H400v160ZM180-400h160v-160H180v160Zm440 0h160v-160H620v160ZM180-180h160v-160H180v160Zm440 0h160v-160H620v160Z\"/>\n",
              "  </svg>\n",
              "    </button>\n",
              "\n",
              "  <style>\n",
              "    .colab-df-container {\n",
              "      display:flex;\n",
              "      gap: 12px;\n",
              "    }\n",
              "\n",
              "    .colab-df-convert {\n",
              "      background-color: #E8F0FE;\n",
              "      border: none;\n",
              "      border-radius: 50%;\n",
              "      cursor: pointer;\n",
              "      display: none;\n",
              "      fill: #1967D2;\n",
              "      height: 32px;\n",
              "      padding: 0 0 0 0;\n",
              "      width: 32px;\n",
              "    }\n",
              "\n",
              "    .colab-df-convert:hover {\n",
              "      background-color: #E2EBFA;\n",
              "      box-shadow: 0px 1px 2px rgba(60, 64, 67, 0.3), 0px 1px 3px 1px rgba(60, 64, 67, 0.15);\n",
              "      fill: #174EA6;\n",
              "    }\n",
              "\n",
              "    .colab-df-buttons div {\n",
              "      margin-bottom: 4px;\n",
              "    }\n",
              "\n",
              "    [theme=dark] .colab-df-convert {\n",
              "      background-color: #3B4455;\n",
              "      fill: #D2E3FC;\n",
              "    }\n",
              "\n",
              "    [theme=dark] .colab-df-convert:hover {\n",
              "      background-color: #434B5C;\n",
              "      box-shadow: 0px 1px 3px 1px rgba(0, 0, 0, 0.15);\n",
              "      filter: drop-shadow(0px 1px 2px rgba(0, 0, 0, 0.3));\n",
              "      fill: #FFFFFF;\n",
              "    }\n",
              "  </style>\n",
              "\n",
              "    <script>\n",
              "      const buttonEl =\n",
              "        document.querySelector('#df-207f2f5a-052e-4a07-96b1-b0aa8d78337d button.colab-df-convert');\n",
              "      buttonEl.style.display =\n",
              "        google.colab.kernel.accessAllowed ? 'block' : 'none';\n",
              "\n",
              "      async function convertToInteractive(key) {\n",
              "        const element = document.querySelector('#df-207f2f5a-052e-4a07-96b1-b0aa8d78337d');\n",
              "        const dataTable =\n",
              "          await google.colab.kernel.invokeFunction('convertToInteractive',\n",
              "                                                    [key], {});\n",
              "        if (!dataTable) return;\n",
              "\n",
              "        const docLinkHtml = 'Like what you see? Visit the ' +\n",
              "          '<a target=\"_blank\" href=https://colab.research.google.com/notebooks/data_table.ipynb>data table notebook</a>'\n",
              "          + ' to learn more about interactive tables.';\n",
              "        element.innerHTML = '';\n",
              "        dataTable['output_type'] = 'display_data';\n",
              "        await google.colab.output.renderOutput(dataTable, element);\n",
              "        const docLink = document.createElement('div');\n",
              "        docLink.innerHTML = docLinkHtml;\n",
              "        element.appendChild(docLink);\n",
              "      }\n",
              "    </script>\n",
              "  </div>\n",
              "\n",
              "\n",
              "    <div id=\"df-2d253f0e-c6fc-4328-b3e4-653a9ebb7c9d\">\n",
              "      <button class=\"colab-df-quickchart\" onclick=\"quickchart('df-2d253f0e-c6fc-4328-b3e4-653a9ebb7c9d')\"\n",
              "                title=\"Suggest charts\"\n",
              "                style=\"display:none;\">\n",
              "\n",
              "<svg xmlns=\"http://www.w3.org/2000/svg\" height=\"24px\"viewBox=\"0 0 24 24\"\n",
              "     width=\"24px\">\n",
              "    <g>\n",
              "        <path d=\"M19 3H5c-1.1 0-2 .9-2 2v14c0 1.1.9 2 2 2h14c1.1 0 2-.9 2-2V5c0-1.1-.9-2-2-2zM9 17H7v-7h2v7zm4 0h-2V7h2v10zm4 0h-2v-4h2v4z\"/>\n",
              "    </g>\n",
              "</svg>\n",
              "      </button>\n",
              "\n",
              "<style>\n",
              "  .colab-df-quickchart {\n",
              "      --bg-color: #E8F0FE;\n",
              "      --fill-color: #1967D2;\n",
              "      --hover-bg-color: #E2EBFA;\n",
              "      --hover-fill-color: #174EA6;\n",
              "      --disabled-fill-color: #AAA;\n",
              "      --disabled-bg-color: #DDD;\n",
              "  }\n",
              "\n",
              "  [theme=dark] .colab-df-quickchart {\n",
              "      --bg-color: #3B4455;\n",
              "      --fill-color: #D2E3FC;\n",
              "      --hover-bg-color: #434B5C;\n",
              "      --hover-fill-color: #FFFFFF;\n",
              "      --disabled-bg-color: #3B4455;\n",
              "      --disabled-fill-color: #666;\n",
              "  }\n",
              "\n",
              "  .colab-df-quickchart {\n",
              "    background-color: var(--bg-color);\n",
              "    border: none;\n",
              "    border-radius: 50%;\n",
              "    cursor: pointer;\n",
              "    display: none;\n",
              "    fill: var(--fill-color);\n",
              "    height: 32px;\n",
              "    padding: 0;\n",
              "    width: 32px;\n",
              "  }\n",
              "\n",
              "  .colab-df-quickchart:hover {\n",
              "    background-color: var(--hover-bg-color);\n",
              "    box-shadow: 0 1px 2px rgba(60, 64, 67, 0.3), 0 1px 3px 1px rgba(60, 64, 67, 0.15);\n",
              "    fill: var(--button-hover-fill-color);\n",
              "  }\n",
              "\n",
              "  .colab-df-quickchart-complete:disabled,\n",
              "  .colab-df-quickchart-complete:disabled:hover {\n",
              "    background-color: var(--disabled-bg-color);\n",
              "    fill: var(--disabled-fill-color);\n",
              "    box-shadow: none;\n",
              "  }\n",
              "\n",
              "  .colab-df-spinner {\n",
              "    border: 2px solid var(--fill-color);\n",
              "    border-color: transparent;\n",
              "    border-bottom-color: var(--fill-color);\n",
              "    animation:\n",
              "      spin 1s steps(1) infinite;\n",
              "  }\n",
              "\n",
              "  @keyframes spin {\n",
              "    0% {\n",
              "      border-color: transparent;\n",
              "      border-bottom-color: var(--fill-color);\n",
              "      border-left-color: var(--fill-color);\n",
              "    }\n",
              "    20% {\n",
              "      border-color: transparent;\n",
              "      border-left-color: var(--fill-color);\n",
              "      border-top-color: var(--fill-color);\n",
              "    }\n",
              "    30% {\n",
              "      border-color: transparent;\n",
              "      border-left-color: var(--fill-color);\n",
              "      border-top-color: var(--fill-color);\n",
              "      border-right-color: var(--fill-color);\n",
              "    }\n",
              "    40% {\n",
              "      border-color: transparent;\n",
              "      border-right-color: var(--fill-color);\n",
              "      border-top-color: var(--fill-color);\n",
              "    }\n",
              "    60% {\n",
              "      border-color: transparent;\n",
              "      border-right-color: var(--fill-color);\n",
              "    }\n",
              "    80% {\n",
              "      border-color: transparent;\n",
              "      border-right-color: var(--fill-color);\n",
              "      border-bottom-color: var(--fill-color);\n",
              "    }\n",
              "    90% {\n",
              "      border-color: transparent;\n",
              "      border-bottom-color: var(--fill-color);\n",
              "    }\n",
              "  }\n",
              "</style>\n",
              "\n",
              "      <script>\n",
              "        async function quickchart(key) {\n",
              "          const quickchartButtonEl =\n",
              "            document.querySelector('#' + key + ' button');\n",
              "          quickchartButtonEl.disabled = true;  // To prevent multiple clicks.\n",
              "          quickchartButtonEl.classList.add('colab-df-spinner');\n",
              "          try {\n",
              "            const charts = await google.colab.kernel.invokeFunction(\n",
              "                'suggestCharts', [key], {});\n",
              "          } catch (error) {\n",
              "            console.error('Error during call to suggestCharts:', error);\n",
              "          }\n",
              "          quickchartButtonEl.classList.remove('colab-df-spinner');\n",
              "          quickchartButtonEl.classList.add('colab-df-quickchart-complete');\n",
              "        }\n",
              "        (() => {\n",
              "          let quickchartButtonEl =\n",
              "            document.querySelector('#df-2d253f0e-c6fc-4328-b3e4-653a9ebb7c9d button');\n",
              "          quickchartButtonEl.style.display =\n",
              "            google.colab.kernel.accessAllowed ? 'block' : 'none';\n",
              "        })();\n",
              "      </script>\n",
              "    </div>\n",
              "\n",
              "    </div>\n",
              "  </div>\n"
            ],
            "application/vnd.google.colaboratory.intrinsic+json": {
              "type": "dataframe",
              "summary": "{\n  \"name\": \"df_final[[\\\"positive\\\", \\\"neutral\\\", \\\"negative\\\", \\\"favorability_ratio\\\"]]\",\n  \"rows\": 5,\n  \"fields\": [\n    {\n      \"column\": \"positive\",\n      \"properties\": {\n        \"dtype\": \"number\",\n        \"std\": 34,\n        \"min\": 40,\n        \"max\": 128,\n        \"num_unique_values\": 5,\n        \"samples\": [\n          40,\n          128,\n          120\n        ],\n        \"semantic_type\": \"\",\n        \"description\": \"\"\n      }\n    },\n    {\n      \"column\": \"neutral\",\n      \"properties\": {\n        \"dtype\": \"number\",\n        \"std\": 25,\n        \"min\": 45,\n        \"max\": 112,\n        \"num_unique_values\": 5,\n        \"samples\": [\n          45,\n          97,\n          89\n        ],\n        \"semantic_type\": \"\",\n        \"description\": \"\"\n      }\n    },\n    {\n      \"column\": \"negative\",\n      \"properties\": {\n        \"dtype\": \"number\",\n        \"std\": 14,\n        \"min\": 18,\n        \"max\": 51,\n        \"num_unique_values\": 5,\n        \"samples\": [\n          18,\n          25,\n          41\n        ],\n        \"semantic_type\": \"\",\n        \"description\": \"\"\n      }\n    },\n    {\n      \"column\": \"favorability_ratio\",\n      \"properties\": {\n        \"dtype\": \"number\",\n        \"std\": 0.05953662003941534,\n        \"min\": 0.46,\n        \"max\": 0.609,\n        \"num_unique_values\": 5,\n        \"samples\": [\n          0.4975728155339806,\n          0.609,\n          0.569\n        ],\n        \"semantic_type\": \"\",\n        \"description\": \"\"\n      }\n    }\n  ]\n}"
            }
          },
          "metadata": {},
          "execution_count": 7
        }
      ],
      "source": [
        "# Cálculo de la métrica con neutral ponderado al 25%\n",
        "df_final[\"favorability_ratio\"] = (\n",
        "    df_final[\"positive\"] + 0.25 * df_final[\"neutral\"]\n",
        ") / (df_final[\"positive\"] + df_final[\"neutral\"] + df_final[\"negative\"])\n",
        "df_final[[\"positive\", \"neutral\", \"negative\", \"favorability_ratio\"]].head()"
      ]
    },
    {
      "cell_type": "markdown",
      "metadata": {
        "id": "e5I2N0jEeoYx"
      },
      "source": [
        "#### 2.1 qcut\n"
      ]
    },
    {
      "cell_type": "markdown",
      "source": [
        "##### Justificación de `qcut` en la creación del target\n",
        "\n",
        "¿Por qué usamos `qcut`?\n",
        "> - `qcut` divide la métrica en **cuantiles balanceados**, generando grupos con tamaños similares.  \n",
        "> - Esto evita el **desbalance de clases**, es decir, muchos apilados en neutrales.  \n",
        "> - Con un target más equilibrado, el modelo aprende mejor.\n",
        "> - Transformar la métrica continua en un **target balanceado**  \n",
        "\n",
        "¿Qué pasaría sin `qcut`?\n",
        "> - Si ponemos los intervaloes manualmente, por ejemplo, con cortes arbitrarios, el resultado puede estar muy desbalanceado.  \n",
        "\n"
      ],
      "metadata": {
        "id": "5yWWZx6EB139"
      }
    },
    {
      "cell_type": "code",
      "execution_count": 8,
      "metadata": {
        "id": "98ML1mLwedxu"
      },
      "outputs": [],
      "source": [
        "df_final[\"favorability_level_3\"] = pd.qcut(\n",
        "    df_final[\"favorability_ratio\"],\n",
        "    q=3,\n",
        "    labels=[\"Baja\", \"Media\", \"Alta\"]\n",
        ")"
      ]
    },
    {
      "cell_type": "code",
      "execution_count": 9,
      "metadata": {
        "id": "XJrbqyFBfegY",
        "colab": {
          "base_uri": "https://localhost:8080/",
          "height": 206
        },
        "outputId": "712d9968-699b-4d45-fd39-2ee87c9cf518"
      },
      "outputs": [
        {
          "output_type": "execute_result",
          "data": {
            "text/plain": [
              "   favorability_ratio favorability_level_3\n",
              "0            0.460000                 Baja\n",
              "1            0.497573                Media\n",
              "2            0.569000                 Alta\n",
              "3            0.559524                 Alta\n",
              "4            0.609000                 Alta"
            ],
            "text/html": [
              "\n",
              "  <div id=\"df-02d4f8b2-a0a2-4fc8-944b-eb72d6e09ada\" class=\"colab-df-container\">\n",
              "    <div>\n",
              "<style scoped>\n",
              "    .dataframe tbody tr th:only-of-type {\n",
              "        vertical-align: middle;\n",
              "    }\n",
              "\n",
              "    .dataframe tbody tr th {\n",
              "        vertical-align: top;\n",
              "    }\n",
              "\n",
              "    .dataframe thead th {\n",
              "        text-align: right;\n",
              "    }\n",
              "</style>\n",
              "<table border=\"1\" class=\"dataframe\">\n",
              "  <thead>\n",
              "    <tr style=\"text-align: right;\">\n",
              "      <th></th>\n",
              "      <th>favorability_ratio</th>\n",
              "      <th>favorability_level_3</th>\n",
              "    </tr>\n",
              "  </thead>\n",
              "  <tbody>\n",
              "    <tr>\n",
              "      <th>0</th>\n",
              "      <td>0.460000</td>\n",
              "      <td>Baja</td>\n",
              "    </tr>\n",
              "    <tr>\n",
              "      <th>1</th>\n",
              "      <td>0.497573</td>\n",
              "      <td>Media</td>\n",
              "    </tr>\n",
              "    <tr>\n",
              "      <th>2</th>\n",
              "      <td>0.569000</td>\n",
              "      <td>Alta</td>\n",
              "    </tr>\n",
              "    <tr>\n",
              "      <th>3</th>\n",
              "      <td>0.559524</td>\n",
              "      <td>Alta</td>\n",
              "    </tr>\n",
              "    <tr>\n",
              "      <th>4</th>\n",
              "      <td>0.609000</td>\n",
              "      <td>Alta</td>\n",
              "    </tr>\n",
              "  </tbody>\n",
              "</table>\n",
              "</div>\n",
              "    <div class=\"colab-df-buttons\">\n",
              "\n",
              "  <div class=\"colab-df-container\">\n",
              "    <button class=\"colab-df-convert\" onclick=\"convertToInteractive('df-02d4f8b2-a0a2-4fc8-944b-eb72d6e09ada')\"\n",
              "            title=\"Convert this dataframe to an interactive table.\"\n",
              "            style=\"display:none;\">\n",
              "\n",
              "  <svg xmlns=\"http://www.w3.org/2000/svg\" height=\"24px\" viewBox=\"0 -960 960 960\">\n",
              "    <path d=\"M120-120v-720h720v720H120Zm60-500h600v-160H180v160Zm220 220h160v-160H400v160Zm0 220h160v-160H400v160ZM180-400h160v-160H180v160Zm440 0h160v-160H620v160ZM180-180h160v-160H180v160Zm440 0h160v-160H620v160Z\"/>\n",
              "  </svg>\n",
              "    </button>\n",
              "\n",
              "  <style>\n",
              "    .colab-df-container {\n",
              "      display:flex;\n",
              "      gap: 12px;\n",
              "    }\n",
              "\n",
              "    .colab-df-convert {\n",
              "      background-color: #E8F0FE;\n",
              "      border: none;\n",
              "      border-radius: 50%;\n",
              "      cursor: pointer;\n",
              "      display: none;\n",
              "      fill: #1967D2;\n",
              "      height: 32px;\n",
              "      padding: 0 0 0 0;\n",
              "      width: 32px;\n",
              "    }\n",
              "\n",
              "    .colab-df-convert:hover {\n",
              "      background-color: #E2EBFA;\n",
              "      box-shadow: 0px 1px 2px rgba(60, 64, 67, 0.3), 0px 1px 3px 1px rgba(60, 64, 67, 0.15);\n",
              "      fill: #174EA6;\n",
              "    }\n",
              "\n",
              "    .colab-df-buttons div {\n",
              "      margin-bottom: 4px;\n",
              "    }\n",
              "\n",
              "    [theme=dark] .colab-df-convert {\n",
              "      background-color: #3B4455;\n",
              "      fill: #D2E3FC;\n",
              "    }\n",
              "\n",
              "    [theme=dark] .colab-df-convert:hover {\n",
              "      background-color: #434B5C;\n",
              "      box-shadow: 0px 1px 3px 1px rgba(0, 0, 0, 0.15);\n",
              "      filter: drop-shadow(0px 1px 2px rgba(0, 0, 0, 0.3));\n",
              "      fill: #FFFFFF;\n",
              "    }\n",
              "  </style>\n",
              "\n",
              "    <script>\n",
              "      const buttonEl =\n",
              "        document.querySelector('#df-02d4f8b2-a0a2-4fc8-944b-eb72d6e09ada button.colab-df-convert');\n",
              "      buttonEl.style.display =\n",
              "        google.colab.kernel.accessAllowed ? 'block' : 'none';\n",
              "\n",
              "      async function convertToInteractive(key) {\n",
              "        const element = document.querySelector('#df-02d4f8b2-a0a2-4fc8-944b-eb72d6e09ada');\n",
              "        const dataTable =\n",
              "          await google.colab.kernel.invokeFunction('convertToInteractive',\n",
              "                                                    [key], {});\n",
              "        if (!dataTable) return;\n",
              "\n",
              "        const docLinkHtml = 'Like what you see? Visit the ' +\n",
              "          '<a target=\"_blank\" href=https://colab.research.google.com/notebooks/data_table.ipynb>data table notebook</a>'\n",
              "          + ' to learn more about interactive tables.';\n",
              "        element.innerHTML = '';\n",
              "        dataTable['output_type'] = 'display_data';\n",
              "        await google.colab.output.renderOutput(dataTable, element);\n",
              "        const docLink = document.createElement('div');\n",
              "        docLink.innerHTML = docLinkHtml;\n",
              "        element.appendChild(docLink);\n",
              "      }\n",
              "    </script>\n",
              "  </div>\n",
              "\n",
              "\n",
              "    <div id=\"df-9b4e97eb-05a8-45b8-a4ea-b04fd8757630\">\n",
              "      <button class=\"colab-df-quickchart\" onclick=\"quickchart('df-9b4e97eb-05a8-45b8-a4ea-b04fd8757630')\"\n",
              "                title=\"Suggest charts\"\n",
              "                style=\"display:none;\">\n",
              "\n",
              "<svg xmlns=\"http://www.w3.org/2000/svg\" height=\"24px\"viewBox=\"0 0 24 24\"\n",
              "     width=\"24px\">\n",
              "    <g>\n",
              "        <path d=\"M19 3H5c-1.1 0-2 .9-2 2v14c0 1.1.9 2 2 2h14c1.1 0 2-.9 2-2V5c0-1.1-.9-2-2-2zM9 17H7v-7h2v7zm4 0h-2V7h2v10zm4 0h-2v-4h2v4z\"/>\n",
              "    </g>\n",
              "</svg>\n",
              "      </button>\n",
              "\n",
              "<style>\n",
              "  .colab-df-quickchart {\n",
              "      --bg-color: #E8F0FE;\n",
              "      --fill-color: #1967D2;\n",
              "      --hover-bg-color: #E2EBFA;\n",
              "      --hover-fill-color: #174EA6;\n",
              "      --disabled-fill-color: #AAA;\n",
              "      --disabled-bg-color: #DDD;\n",
              "  }\n",
              "\n",
              "  [theme=dark] .colab-df-quickchart {\n",
              "      --bg-color: #3B4455;\n",
              "      --fill-color: #D2E3FC;\n",
              "      --hover-bg-color: #434B5C;\n",
              "      --hover-fill-color: #FFFFFF;\n",
              "      --disabled-bg-color: #3B4455;\n",
              "      --disabled-fill-color: #666;\n",
              "  }\n",
              "\n",
              "  .colab-df-quickchart {\n",
              "    background-color: var(--bg-color);\n",
              "    border: none;\n",
              "    border-radius: 50%;\n",
              "    cursor: pointer;\n",
              "    display: none;\n",
              "    fill: var(--fill-color);\n",
              "    height: 32px;\n",
              "    padding: 0;\n",
              "    width: 32px;\n",
              "  }\n",
              "\n",
              "  .colab-df-quickchart:hover {\n",
              "    background-color: var(--hover-bg-color);\n",
              "    box-shadow: 0 1px 2px rgba(60, 64, 67, 0.3), 0 1px 3px 1px rgba(60, 64, 67, 0.15);\n",
              "    fill: var(--button-hover-fill-color);\n",
              "  }\n",
              "\n",
              "  .colab-df-quickchart-complete:disabled,\n",
              "  .colab-df-quickchart-complete:disabled:hover {\n",
              "    background-color: var(--disabled-bg-color);\n",
              "    fill: var(--disabled-fill-color);\n",
              "    box-shadow: none;\n",
              "  }\n",
              "\n",
              "  .colab-df-spinner {\n",
              "    border: 2px solid var(--fill-color);\n",
              "    border-color: transparent;\n",
              "    border-bottom-color: var(--fill-color);\n",
              "    animation:\n",
              "      spin 1s steps(1) infinite;\n",
              "  }\n",
              "\n",
              "  @keyframes spin {\n",
              "    0% {\n",
              "      border-color: transparent;\n",
              "      border-bottom-color: var(--fill-color);\n",
              "      border-left-color: var(--fill-color);\n",
              "    }\n",
              "    20% {\n",
              "      border-color: transparent;\n",
              "      border-left-color: var(--fill-color);\n",
              "      border-top-color: var(--fill-color);\n",
              "    }\n",
              "    30% {\n",
              "      border-color: transparent;\n",
              "      border-left-color: var(--fill-color);\n",
              "      border-top-color: var(--fill-color);\n",
              "      border-right-color: var(--fill-color);\n",
              "    }\n",
              "    40% {\n",
              "      border-color: transparent;\n",
              "      border-right-color: var(--fill-color);\n",
              "      border-top-color: var(--fill-color);\n",
              "    }\n",
              "    60% {\n",
              "      border-color: transparent;\n",
              "      border-right-color: var(--fill-color);\n",
              "    }\n",
              "    80% {\n",
              "      border-color: transparent;\n",
              "      border-right-color: var(--fill-color);\n",
              "      border-bottom-color: var(--fill-color);\n",
              "    }\n",
              "    90% {\n",
              "      border-color: transparent;\n",
              "      border-bottom-color: var(--fill-color);\n",
              "    }\n",
              "  }\n",
              "</style>\n",
              "\n",
              "      <script>\n",
              "        async function quickchart(key) {\n",
              "          const quickchartButtonEl =\n",
              "            document.querySelector('#' + key + ' button');\n",
              "          quickchartButtonEl.disabled = true;  // To prevent multiple clicks.\n",
              "          quickchartButtonEl.classList.add('colab-df-spinner');\n",
              "          try {\n",
              "            const charts = await google.colab.kernel.invokeFunction(\n",
              "                'suggestCharts', [key], {});\n",
              "          } catch (error) {\n",
              "            console.error('Error during call to suggestCharts:', error);\n",
              "          }\n",
              "          quickchartButtonEl.classList.remove('colab-df-spinner');\n",
              "          quickchartButtonEl.classList.add('colab-df-quickchart-complete');\n",
              "        }\n",
              "        (() => {\n",
              "          let quickchartButtonEl =\n",
              "            document.querySelector('#df-9b4e97eb-05a8-45b8-a4ea-b04fd8757630 button');\n",
              "          quickchartButtonEl.style.display =\n",
              "            google.colab.kernel.accessAllowed ? 'block' : 'none';\n",
              "        })();\n",
              "      </script>\n",
              "    </div>\n",
              "\n",
              "    </div>\n",
              "  </div>\n"
            ],
            "application/vnd.google.colaboratory.intrinsic+json": {
              "type": "dataframe",
              "summary": "{\n  \"name\": \"df_final[[\\\"favorability_ratio\\\", \\\"favorability_level_3\\\"]]\",\n  \"rows\": 5,\n  \"fields\": [\n    {\n      \"column\": \"favorability_ratio\",\n      \"properties\": {\n        \"dtype\": \"number\",\n        \"std\": 0.05953662003941534,\n        \"min\": 0.46,\n        \"max\": 0.609,\n        \"num_unique_values\": 5,\n        \"samples\": [\n          0.4975728155339806,\n          0.609,\n          0.569\n        ],\n        \"semantic_type\": \"\",\n        \"description\": \"\"\n      }\n    },\n    {\n      \"column\": \"favorability_level_3\",\n      \"properties\": {\n        \"dtype\": \"category\",\n        \"num_unique_values\": 3,\n        \"samples\": [\n          \"Baja\",\n          \"Media\",\n          \"Alta\"\n        ],\n        \"semantic_type\": \"\",\n        \"description\": \"\"\n      }\n    }\n  ]\n}"
            }
          },
          "metadata": {},
          "execution_count": 9
        }
      ],
      "source": [
        "df_final[[\"favorability_ratio\", \"favorability_level_3\"]].head()\n"
      ]
    },
    {
      "cell_type": "code",
      "execution_count": 10,
      "metadata": {
        "id": "a935b8cd",
        "colab": {
          "base_uri": "https://localhost:8080/",
          "height": 487
        },
        "outputId": "a6d2bd35-2b1a-452f-dcb8-ea3e24a7cbc1"
      },
      "outputs": [
        {
          "output_type": "display_data",
          "data": {
            "text/plain": [
              "<Figure size 640x480 with 1 Axes>"
            ],
            "image/png": "[encoded data removed]"
          },
          "metadata": {}
        }
      ],
      "source": [
        "# Revisara si favorability_level_3 para ver si quedaron balanceadas\n",
        "\n",
        "df_final[\"favorability_level_3\"].value_counts().sort_index().plot(\n",
        "    kind=\"bar\", color=\"darkorange\", edgecolor=\"black\"\n",
        ")\n",
        "plt.title(\"Distribución de clases del target (3 clases balanceadas)\")\n",
        "plt.xlabel(\"Nivel de favorabilidad\")\n",
        "plt.ylabel(\"Cantidad de películas\")\n",
        "plt.grid(axis='y')\n",
        "plt.tight_layout()\n",
        "plt.show()"
      ]
    },
    {
      "cell_type": "code",
      "execution_count": 11,
      "metadata": {
        "id": "tXWd3fSmfsGO",
        "colab": {
          "base_uri": "https://localhost:8080/",
          "height": 210
        },
        "outputId": "3e2204ec-71ee-496b-b750-6a7f147f009e"
      },
      "outputs": [
        {
          "output_type": "execute_result",
          "data": {
            "text/plain": [
              "favorability_level_3\n",
              "Baja     371\n",
              "Media    365\n",
              "Alta     369\n",
              "Name: count, dtype: int64"
            ],
            "text/html": [
              "<div>\n",
              "<style scoped>\n",
              "    .dataframe tbody tr th:only-of-type {\n",
              "        vertical-align: middle;\n",
              "    }\n",
              "\n",
              "    .dataframe tbody tr th {\n",
              "        vertical-align: top;\n",
              "    }\n",
              "\n",
              "    .dataframe thead th {\n",
              "        text-align: right;\n",
              "    }\n",
              "</style>\n",
              "<table border=\"1\" class=\"dataframe\">\n",
              "  <thead>\n",
              "    <tr style=\"text-align: right;\">\n",
              "      <th></th>\n",
              "      <th>count</th>\n",
              "    </tr>\n",
              "    <tr>\n",
              "      <th>favorability_level_3</th>\n",
              "      <th></th>\n",
              "    </tr>\n",
              "  </thead>\n",
              "  <tbody>\n",
              "    <tr>\n",
              "      <th>Baja</th>\n",
              "      <td>371</td>\n",
              "    </tr>\n",
              "    <tr>\n",
              "      <th>Media</th>\n",
              "      <td>365</td>\n",
              "    </tr>\n",
              "    <tr>\n",
              "      <th>Alta</th>\n",
              "      <td>369</td>\n",
              "    </tr>\n",
              "  </tbody>\n",
              "</table>\n",
              "</div><br><label><b>dtype:</b> int64</label>"
            ]
          },
          "metadata": {},
          "execution_count": 11
        }
      ],
      "source": [
        "# Contar cuántas películas hay en cada categoría\n",
        "df_final[\"favorability_level_3\"].value_counts().sort_index()"
      ]
    },
    {
      "cell_type": "code",
      "execution_count": 12,
      "metadata": {
        "id": "HyZDyXkBf9JP",
        "colab": {
          "base_uri": "https://localhost:8080/",
          "height": 210
        },
        "outputId": "fd6e899e-9ab6-4f98-f650-04f5d91d75e2"
      },
      "outputs": [
        {
          "output_type": "execute_result",
          "data": {
            "text/plain": [
              "favorability_level_3\n",
              "Baja     33.574661\n",
              "Media    33.031674\n",
              "Alta     33.393665\n",
              "Name: proportion, dtype: float64"
            ],
            "text/html": [
              "<div>\n",
              "<style scoped>\n",
              "    .dataframe tbody tr th:only-of-type {\n",
              "        vertical-align: middle;\n",
              "    }\n",
              "\n",
              "    .dataframe tbody tr th {\n",
              "        vertical-align: top;\n",
              "    }\n",
              "\n",
              "    .dataframe thead th {\n",
              "        text-align: right;\n",
              "    }\n",
              "</style>\n",
              "<table border=\"1\" class=\"dataframe\">\n",
              "  <thead>\n",
              "    <tr style=\"text-align: right;\">\n",
              "      <th></th>\n",
              "      <th>proportion</th>\n",
              "    </tr>\n",
              "    <tr>\n",
              "      <th>favorability_level_3</th>\n",
              "      <th></th>\n",
              "    </tr>\n",
              "  </thead>\n",
              "  <tbody>\n",
              "    <tr>\n",
              "      <th>Baja</th>\n",
              "      <td>33.574661</td>\n",
              "    </tr>\n",
              "    <tr>\n",
              "      <th>Media</th>\n",
              "      <td>33.031674</td>\n",
              "    </tr>\n",
              "    <tr>\n",
              "      <th>Alta</th>\n",
              "      <td>33.393665</td>\n",
              "    </tr>\n",
              "  </tbody>\n",
              "</table>\n",
              "</div><br><label><b>dtype:</b> float64</label>"
            ]
          },
          "metadata": {},
          "execution_count": 12
        }
      ],
      "source": [
        "# Calcular el porcentaje de películas en cada categoría\n",
        "# Se verifica el balance de ~33% cada una\n",
        "df_final[\"favorability_level_3\"].value_counts(normalize=True).sort_index() * 100\n"
      ]
    },
    {
      "cell_type": "markdown",
      "metadata": {
        "id": "g0s_7fplkSOV"
      },
      "source": [
        "## 📌 Reducción de dimensionalidad\n"
      ]
    },
    {
      "cell_type": "code",
      "execution_count": 13,
      "metadata": {
        "id": "g-kEgZtehUFQ",
        "colab": {
          "base_uri": "https://localhost:8080/"
        },
        "outputId": "f48dd779-d29f-49c5-f133-6816825fe955"
      },
      "outputs": [
        {
          "output_type": "execute_result",
          "data": {
            "text/plain": [
              "Index(['name', 'trailer_link', 'sentiment_scores', 'favorability', 'rating',\n",
              "       'genre', 'year', 'released', 'votes', 'director', 'writer', 'star',\n",
              "       'country', 'budget', 'gross', 'company', 'runtime', 'positive',\n",
              "       'neutral', 'negative', 'total_comments', 'positive_ratio',\n",
              "       'emotional_balance', 'genre_Action', 'genre_Adventure',\n",
              "       'genre_Animation', 'genre_Biography', 'genre_Comedy', 'genre_Crime',\n",
              "       'genre_Drama', 'genre_Fantasy', 'genre_Horror', 'genre_Mystery',\n",
              "       'genre_Romance', 'genre_Sci-Fi', 'genre_Thriller', 'rating_G',\n",
              "       'rating_NC-17', 'rating_Not Rated', 'rating_PG', 'rating_PG-13',\n",
              "       'rating_R', 'rating_TV-MA', 'rating_Unrated', 'favorability_ratio',\n",
              "       'favorability_level_3'],\n",
              "      dtype='object')"
            ]
          },
          "metadata": {},
          "execution_count": 13
        }
      ],
      "source": [
        "df_final.columns"
      ]
    },
    {
      "cell_type": "markdown",
      "metadata": {
        "id": "2kq4f8ARzPGX"
      },
      "source": [
        "### Chi2\n"
      ]
    },
    {
      "cell_type": "markdown",
      "source": [
        "#### Selección de variables con Chi2\n",
        "\n",
        "¿Por qué usar Chi2?\n",
        "> - Método para identificar qué variables independiente aportan más información para predecir el target o variable objetivo `favorability_level_3`.     \n",
        "\n",
        "¿Qué hace Chi2?\n",
        "> - Calcula un puntaje para cada variable en función de su relación con el target.Seleccionando las variables más útiles para el modelo.\n",
        "> - Luego ordena las variables de mayor a menor relevancia.   "
      ],
      "metadata": {
        "id": "9Sx0NGERYP2X"
      }
    },
    {
      "cell_type": "code",
      "execution_count": 14,
      "metadata": {
        "id": "068d87ed",
        "colab": {
          "base_uri": "https://localhost:8080/"
        },
        "outputId": "dc3c699e-13da-4336-b2ba-a8fd110cdf81"
      },
      "outputs": [
        {
          "output_type": "stream",
          "name": "stdout",
          "text": [
            "Shape de X: (1105, 29)\n",
            "Ejemplo de features: ['votes', 'budget', 'gross', 'runtime', 'positive', 'neutral', 'negative', 'total_comments', 'genre_Action', 'genre_Adventure']\n",
            "Clases del target: {np.int64(0), np.int64(1), np.int64(2)}\n"
          ]
        }
      ],
      "source": [
        "# from sklearn.feature_selection import SelectKBest, chi2\n",
        "# from sklearn.preprocessing import LabelEncoder\n",
        "\n",
        "# Columnas a excluir\n",
        "columnas_excluir = [\n",
        "    'name', 'trailer_link', 'sentiment_scores', 'favorability', 'rating',\n",
        "    'genre', 'year', 'released', 'director', 'writer', 'star', 'country',\n",
        "    'company',\n",
        "    'positive_ratio', 'emotional_balance',  # métricas derivadas\n",
        "    'favorability_ratio', 'favorability_level_3'  # BASE DEL target\n",
        "]\n",
        "\n",
        "# Features (X)\n",
        "X = df_final.drop(columns=columnas_excluir)\n",
        "\n",
        "# Aseguramos que no haya negativos -requisito que pidió chi2-\n",
        "X = X.clip(lower=0)\n",
        "\n",
        "# Target (y)\n",
        "y = LabelEncoder().fit_transform(df_final['favorability_level_3'])\n",
        "\n",
        "print(\"Shape de X:\", X.shape)\n",
        "print(\"Ejemplo de features:\", X.columns[:10].tolist())\n",
        "print(\"Clases del target:\", set(y))"
      ]
    },
    {
      "cell_type": "markdown",
      "metadata": {
        "id": "rLsb8z3pukrZ"
      },
      "source": [
        "#### Top 10 features más relevantes según Chi2.\n"
      ]
    },
    {
      "cell_type": "code",
      "execution_count": 15,
      "metadata": {
        "id": "06dd61e2",
        "colab": {
          "base_uri": "https://localhost:8080/"
        },
        "outputId": "bf8e71c2-7ed7-4e94-a8ce-914642f5215c"
      },
      "outputs": [
        {
          "output_type": "stream",
          "name": "stdout",
          "text": [
            "Top 10 features seleccionadas por Chi2:\n",
            "          Feature    Chi2 Score\n",
            "2           gross  2.375978e+09\n",
            "1          budget  4.886943e+08\n",
            "0           votes  2.082159e+06\n",
            "6        negative  2.365032e+03\n",
            "4        positive  1.815697e+03\n",
            "5         neutral  8.522455e+02\n",
            "7  total_comments  4.305595e+02\n",
            "9    genre_Horror  7.059394e+01\n",
            "3         runtime  3.259291e+01\n",
            "8    genre_Comedy  2.989541e+01\n"
          ]
        }
      ],
      "source": [
        "# from sklearn.impute import SimpleImputer\n",
        "\n",
        "# Imputar valores faltantes con la mediana\n",
        "imputer = SimpleImputer(strategy=\"median\")\n",
        "X_imputed = pd.DataFrame(imputer.fit_transform(X), columns=X.columns)\n",
        "\n",
        "# Aplicar SelectKBest con chi2\n",
        "selector = SelectKBest(score_func=chi2, k=10)\n",
        "X_new = selector.fit_transform(X_imputed, y)\n",
        "\n",
        "# Obtener nombres y scores\n",
        "selected_features = X_imputed.columns[selector.get_support()]\n",
        "scores = selector.scores_[selector.get_support()]\n",
        "\n",
        "# Mostrar tabla\n",
        "resultados = pd.DataFrame({\n",
        "    \"Feature\": selected_features,\n",
        "    \"Chi2 Score\": scores\n",
        "}).sort_values(by=\"Chi2 Score\", ascending=False)\n",
        "\n",
        "print(\"Top 10 features seleccionadas por Chi2:\")\n",
        "print(resultados)\n"
      ]
    },
    {
      "cell_type": "markdown",
      "source": [
        "#### Resultado\n",
        "El ranking mostró que las variables más predictivas fueron cuantitativas y sentimentales:  \n",
        "- `gross`, `budget`, `votes`  \n",
        "- `positive`, `negative`, `neutral`, `total_comments`  \n",
        "- `runtime`  "
      ],
      "metadata": {
        "id": "X64s6JoFKHl7"
      }
    },
    {
      "cell_type": "markdown",
      "metadata": {
        "id": "9a7TKWBkwCHv"
      },
      "source": [
        "#### Justificación: exclusión de variables de género\n",
        "\n",
        "Chi2 arrojó 2 géneros `genre_Horror`, `genre_Comedy`, pero:\n",
        "- Si quisiéramos hacer un análisis de género, deberíamos hacerlo con **todos**\n",
        "- Incluirlos podría afectar el modelo.  \n",
        "\n",
        "Decisión:\n",
        "- Por estas razones, **excluí las variables de género** y dejé **8 features principales** para entrenar el modelo.  \n"
      ]
    },
    {
      "cell_type": "code",
      "execution_count": 16,
      "metadata": {
        "id": "ssUEBwrpukZZ",
        "colab": {
          "base_uri": "https://localhost:8080/"
        },
        "outputId": "065c9c8e-0a0c-4d10-b124-4a7a475167d7"
      },
      "outputs": [
        {
          "output_type": "stream",
          "name": "stdout",
          "text": [
            "Cantidad de features finales: 8\n",
            "Features finales (sin Horror ni Comedy): ['votes', 'budget', 'gross', 'runtime', 'positive', 'neutral', 'negative', 'total_comments']\n",
            "Shape de X_final: (1105, 8)\n",
            "Shape de y_final: (1105,)\n",
            "Hay NaN en y_final? False\n",
            "Hay NaN en X_final? False\n"
          ]
        }
      ],
      "source": [
        "# Convertir a lista para poder modificar\n",
        "selected_features = list(selected_features)\n",
        "\n",
        "# Quitar Horror y Comedy\n",
        "for col in [\"genre_Horror\", \"genre_Comedy\"]:\n",
        "    if col in selected_features:\n",
        "        selected_features.remove(col)\n",
        "\n",
        "print(\"Cantidad de features finales:\", len(selected_features))\n",
        "print(\"Features finales (sin Horror ni Comedy):\", selected_features)\n",
        "\n",
        "# Crear dataset final con esas variabless\n",
        "X_final = X_imputed[selected_features]\n",
        "y_final = y\n",
        "\n",
        "print(\"Shape de X_final:\", X_final.shape)\n",
        "print(\"Shape de y_final:\", y_final.shape)\n",
        "print(\"Hay NaN en y_final?\", X_final.isna().sum().sum() > 0)\n",
        "print(\"Hay NaN en X_final?\", X_final.isna().sum().sum() > 0)"
      ]
    },
    {
      "cell_type": "markdown",
      "metadata": {
        "id": "nZiwTs014Tyh"
      },
      "source": [
        "### ANOVA\n"
      ]
    },
    {
      "cell_type": "markdown",
      "source": [
        "#### Selección de variables con ANOVA F-test\n",
        "\n",
        "> ¿Por qué usar ANOVA?\n",
        "- Al ser target es **categórico**,  **ANOVA F-test** analiza si alguna variable independiente, tiene valores medios diferentes según el grupo del target, en este caso: bajo, medio, alto.\n",
        "\n",
        "> ¿Cómo funciona?\n",
        "- Compara el cambio de los valores dentro de cada grupo del target\n",
        "- Si la diferencia entre los grupos es grande, el F-score será alto, lo que significa que esa variable ayuda a distinguir las clases."
      ],
      "metadata": {
        "id": "n9TnRZEWaRC3"
      }
    },
    {
      "cell_type": "code",
      "execution_count": 17,
      "metadata": {
        "id": "6603a118",
        "colab": {
          "base_uri": "https://localhost:8080/"
        },
        "outputId": "eb415a05-a129-4a70-f35a-fcf7df185262"
      },
      "outputs": [
        {
          "output_type": "stream",
          "name": "stdout",
          "text": [
            "Top 10 features seleccionadas por ANOVA F-test:\n",
            "          Feature    F Score\n",
            "5        negative  86.659915\n",
            "3        positive  47.615730\n",
            "9    genre_Horror  40.458720\n",
            "4         neutral  23.026895\n",
            "8    genre_Comedy  20.308564\n",
            "7    genre_Action  11.326618\n",
            "2         runtime   6.238993\n",
            "1          budget   5.423054\n",
            "6  total_comments   5.178316\n",
            "0           votes   4.786842\n"
          ]
        }
      ],
      "source": [
        "# from sklearn.feature_selection import SelectKBest, f_classif\n",
        "\n",
        "# Aplicar SelectKBest con ANOVA F-test\n",
        "selector_anova = SelectKBest(score_func=f_classif, k=10)\n",
        "X_new_anova = selector_anova.fit_transform(X_imputed, y)\n",
        "\n",
        "# Obtener nombres y scores\n",
        "selected_features_anova = X_imputed.columns[selector_anova.get_support()]\n",
        "scores_anova = selector_anova.scores_[selector_anova.get_support()]\n",
        "\n",
        "# Mostrar en tabla\n",
        "resultados_anova = pd.DataFrame({\n",
        "    \"Feature\": selected_features_anova,\n",
        "    \"F Score\": scores_anova\n",
        "}).sort_values(by=\"F Score\", ascending=False)\n",
        "\n",
        "print(\"Top 10 features seleccionadas por ANOVA F-test:\")\n",
        "print(resultados_anova)\n"
      ]
    },
    {
      "cell_type": "markdown",
      "source": [
        "#### Resultado\n",
        "> El ranking ANOVA mostró como más relevantes:  \n",
        "- Variables sentimentales: `negative`, `positive`, `neutral`.  \n",
        "- Género `Horror`, `Comedy`, `Action`.  \n",
        "- Otras cuantitativas: `runtime`, `budget`, `votes`, `total_comments`.\n",
        "\n",
        "> Interpretación\n",
        "- Confirma la importancia de los **comentarios de sentiemiento positivo, negativo**.  \n",
        "- El algoritmo también selecciona algunos géneros específicos, lo cual refleja que en este dataset ciertos géneros tienen diferencias notorias en la distribución de favorabilidad.  \n",
        "\n",
        "> Decisión\n",
        "- Al igual que con Chi2, **no incluiremos las variables de género**.\n",
        "- Nos quedaremos con las variables relevantes `negative`, `positive`, `neutral`, `runtime`, `budget`, `votes`, `total_comments`."
      ],
      "metadata": {
        "id": "mqCtaHujdmZE"
      }
    },
    {
      "cell_type": "markdown",
      "metadata": {
        "id": "HyThbQEu3mdu"
      },
      "source": [
        "## 2)📌 Escoger un algoritmo e regresión o clasificación\n"
      ]
    },
    {
      "cell_type": "markdown",
      "metadata": {
        "id": "6uJEYqQ66-fX"
      },
      "source": [
        "## paso 1 - Preparación del dataset final\n",
        "Construcción del dataset  para el modelo:  \n",
        "- Se eliminan las variables de género para evitar sesgos.  \n",
        "- Se seleccionan solo las features relevantes sentimentales y cuantitativas.  \n",
        "- Se arma la matriz final (`X_final`, `y_final`) y se verifica que no haya valores nulos.\n"
      ]
    },
    {
      "cell_type": "code",
      "execution_count": 18,
      "metadata": {
        "id": "ktalfhRD7Cxc",
        "colab": {
          "base_uri": "https://localhost:8080/"
        },
        "outputId": "b4b192c5-28c2-4731-9474-321979455a13"
      },
      "outputs": [
        {
          "output_type": "stream",
          "name": "stdout",
          "text": [
            "Features finales usadas en el modelo: ['votes', 'budget', 'gross', 'runtime', 'positive', 'neutral', 'negative', 'total_comments']\n",
            "Shape de X_final: (1105, 8)\n",
            "Shape de y_final: (1105,)\n",
            "¿Hay NaN en X_final? False\n",
            "¿Hay NaN en y_final? False\n"
          ]
        }
      ],
      "source": [
        "# Definir features finales eliminando cualquier género\n",
        "selected_features = [f for f in selected_features if not f.startswith(\"genre_\")]\n",
        "\n",
        "# Dataset final\n",
        "X_final = X_imputed[selected_features]\n",
        "y_final = y  # ya estaba codificado con LabelEncoder\n",
        "\n",
        "print(\"Features finales usadas en el modelo:\", selected_features)\n",
        "print(\"Shape de X_final:\", X_final.shape)\n",
        "print(\"Shape de y_final:\", y_final.shape)\n",
        "print(\"¿Hay NaN en X_final?\", X_final.isna().sum().sum() > 0)\n",
        "print(\"¿Hay NaN en y_final?\", pd.isna(y_final).sum() > 0)\n"
      ]
    },
    {
      "cell_type": "markdown",
      "metadata": {
        "id": "oSfd7eKA6-Hj"
      },
      "source": [
        "## Paso 2 Selección del algoritmo\n",
        "\n",
        "En esta parte se prueban tres algoritmos:\n",
        "\n",
        "1. **Árbol de Decisión** → Sencillo e interpretable.  \n",
        "2. **Regresión Logística** → Baseline clásico en problemas de clasificación.  \n",
        "3. **Random Forest** → Modelo más robusto, que combina múltiples árboles.  \n",
        "\n",
        "Se espera que La comparación de sus resultados permita identificar el modelo con mejor desempeño para predecir la favorabilidad.\n",
        "\n"
      ]
    },
    {
      "cell_type": "markdown",
      "metadata": {
        "id": "pMY049g6_CfT"
      },
      "source": [
        "### ⚙️ Modelo 1: Árbol de Decisión\n"
      ]
    },
    {
      "cell_type": "code",
      "execution_count": 19,
      "metadata": {
        "id": "9158187b",
        "colab": {
          "base_uri": "https://localhost:8080/"
        },
        "outputId": "2d85536c-ca0e-46a0-b723-a6c9cc6fcfc4"
      },
      "outputs": [
        {
          "output_type": "stream",
          "name": "stdout",
          "text": [
            "Accuracy: 0.7048192771084337\n",
            "\n",
            "Classification Report:\n",
            "               precision    recall  f1-score   support\n",
            "\n",
            "           0       0.71      0.75      0.73       111\n",
            "           1       0.71      0.77      0.74       111\n",
            "           2       0.69      0.60      0.64       110\n",
            "\n",
            "    accuracy                           0.70       332\n",
            "   macro avg       0.70      0.70      0.70       332\n",
            "weighted avg       0.70      0.70      0.70       332\n",
            "\n",
            "\n",
            "Matriz de confusión:\n",
            " [[83 16 12]\n",
            " [ 9 85 17]\n",
            " [25 19 66]]\n"
          ]
        }
      ],
      "source": [
        "# from sklearn.model_selection import train_test_split\n",
        "# from sklearn.tree import DecisionTreeClassifier\n",
        "# from sklearn.metrics import accuracy_score, classification_report, confusion_matrix\n",
        "\n",
        "# Dividir datos en train/test\n",
        "X_train, X_test, y_train, y_test = train_test_split(\n",
        "    X_final, y_final, test_size=0.3, random_state=42, stratify=y_final\n",
        ")\n",
        "\n",
        "# Crear y entrenar Árbol de Decisión\n",
        "dt_model = DecisionTreeClassifier(random_state=42, max_depth=5)\n",
        "dt_model.fit(X_train, y_train)\n",
        "\n",
        "# Predicciones\n",
        "y_pred = dt_model.predict(X_test)\n",
        "\n",
        "# Métricas\n",
        "print(\"Accuracy:\", accuracy_score(y_test, y_pred))\n",
        "print(\"\\nClassification Report:\\n\", classification_report(y_test, y_pred))\n",
        "print(\"\\nMatriz de confusión:\\n\", confusion_matrix(y_test, y_pred))\n"
      ]
    },
    {
      "cell_type": "markdown",
      "source": [
        "#### **Resultado de Árbol de Decisión**\n",
        "\n",
        "> - **Accuracy** 0.70, 70% de predicciones correctas en general.  \n",
        "> - las clases de macro avg y Weighted avg estan balanceadas.\n",
        "> - **Clase 2 alta** → recall = 0.60, problemas al predecir. El modelo solo detecta 6 de cada 10 tráilers realmente ‘altos’\n",
        "> - **Matriz de confusión** → En clase 2 se observan más errores.\n",
        "\n",
        "♦ **Matriz de confusión:**\n",
        "**Aciertos por clase**:\n",
        "> - Baja → 83/111 ≈ 75% correctos.\n",
        "> - Media → 85/111 ≈ 77% correctos.\n",
        "> - Alta → 66/110 ≈ 60% correctos.\n",
        "\n",
        "**♦ Errores más comunes:**\n",
        "> - La clase alta se confunde mucho con baja y media.\n",
        "> - Las clases baja y media se predicen mejor y con menos confusiones.\n",
        "\n",
        "♦ **Interpretación:**\n",
        "> - El modelo logra separar bien baja y media, pero tiene más problemas para identificar la clase alta."
      ],
      "metadata": {
        "id": "UQSZalGrpiPY"
      }
    },
    {
      "cell_type": "markdown",
      "metadata": {
        "id": "V9bbLobC8IkL"
      },
      "source": [
        "### ⚙️ Modelo 2: Regresión Logística\n"
      ]
    },
    {
      "cell_type": "code",
      "execution_count": 20,
      "metadata": {
        "id": "0dee89f1",
        "colab": {
          "base_uri": "https://localhost:8080/"
        },
        "outputId": "e93d2a36-6650-469a-ba4e-d16d19a5e710"
      },
      "outputs": [
        {
          "output_type": "stream",
          "name": "stderr",
          "text": [
            "/usr/local/lib/python3.12/dist-packages/sklearn/linear_model/_logistic.py:1247: FutureWarning: 'multi_class' was deprecated in version 1.5 and will be removed in 1.7. From then on, it will always use 'multinomial'. Leave it to its default value to avoid this warning.\n",
            "  warnings.warn(\n"
          ]
        },
        {
          "output_type": "stream",
          "name": "stdout",
          "text": [
            "Accuracy: 0.7319277108433735\n",
            "\n",
            "Classification Report:\n",
            "               precision    recall  f1-score   support\n",
            "\n",
            "           0       0.64      0.81      0.72       111\n",
            "           1       0.88      0.75      0.81       111\n",
            "           2       0.71      0.64      0.67       110\n",
            "\n",
            "    accuracy                           0.73       332\n",
            "   macro avg       0.75      0.73      0.73       332\n",
            "weighted avg       0.75      0.73      0.73       332\n",
            "\n",
            "\n",
            "Matriz de confusión:\n",
            " [[90  0 21]\n",
            " [21 83  7]\n",
            " [29 11 70]]\n"
          ]
        },
        {
          "output_type": "stream",
          "name": "stderr",
          "text": [
            "/usr/local/lib/python3.12/dist-packages/sklearn/linear_model/_logistic.py:465: ConvergenceWarning: lbfgs failed to converge (status=1):\n",
            "STOP: TOTAL NO. OF ITERATIONS REACHED LIMIT.\n",
            "\n",
            "Increase the number of iterations (max_iter) or scale the data as shown in:\n",
            "    https://scikit-learn.org/stable/modules/preprocessing.html\n",
            "Please also refer to the documentation for alternative solver options:\n",
            "    https://scikit-learn.org/stable/modules/linear_model.html#logistic-regression\n",
            "  n_iter_i = _check_optimize_result(\n"
          ]
        }
      ],
      "source": [
        "#from sklearn.linear_model import LogisticRegression\n",
        "\n",
        "# Crear y entrenar RL\n",
        "log_model = LogisticRegression(max_iter=1000, random_state=42, multi_class=\"multinomial\")\n",
        "log_model.fit(X_train, y_train)\n",
        "\n",
        "# Predicciones\n",
        "y_pred_log = log_model.predict(X_test)\n",
        "\n",
        "# Métricas\n",
        "print(\"Accuracy:\", accuracy_score(y_test, y_pred_log))\n",
        "print(\"\\nClassification Report:\\n\", classification_report(y_test, y_pred_log))\n",
        "print(\"\\nMatriz de confusión:\\n\", confusion_matrix(y_test, y_pred_log))\n"
      ]
    },
    {
      "cell_type": "markdown",
      "metadata": {
        "id": "MaysulvJCp77"
      },
      "source": [
        "#### Ajuste de la Regresión Logística\n",
        "-Al entrenar la regresión logística apareció un aviso de que **el modelo no alcanzó a converger** en el número de iteraciones.  \n",
        "- Para solucionarlo aumenté el número de iteraciones `max_iter`.  \n",
        "- Esto, parece, le permite ajustarse mejor.\n"
      ]
    },
    {
      "cell_type": "code",
      "execution_count": 21,
      "metadata": {
        "id": "0ad200f5",
        "colab": {
          "base_uri": "https://localhost:8080/"
        },
        "outputId": "456335e8-a2fd-465f-91f6-c5275b7970c2"
      },
      "outputs": [
        {
          "output_type": "stream",
          "name": "stderr",
          "text": [
            "/usr/local/lib/python3.12/dist-packages/sklearn/linear_model/_logistic.py:1247: FutureWarning: 'multi_class' was deprecated in version 1.5 and will be removed in 1.7. From then on, it will always use 'multinomial'. Leave it to its default value to avoid this warning.\n",
            "  warnings.warn(\n"
          ]
        },
        {
          "output_type": "stream",
          "name": "stdout",
          "text": [
            "Accuracy: 0.8433734939759037\n",
            "\n",
            "Classification Report:\n",
            "               precision    recall  f1-score   support\n",
            "\n",
            "           0       0.88      0.95      0.92       111\n",
            "           1       0.80      0.93      0.86       111\n",
            "           2       0.86      0.65      0.74       110\n",
            "\n",
            "    accuracy                           0.84       332\n",
            "   macro avg       0.85      0.84      0.84       332\n",
            "weighted avg       0.85      0.84      0.84       332\n",
            "\n",
            "\n",
            "Matriz de confusión:\n",
            " [[106   1   4]\n",
            " [  0 103   8]\n",
            " [ 14  25  71]]\n"
          ]
        },
        {
          "output_type": "stream",
          "name": "stderr",
          "text": [
            "/usr/local/lib/python3.12/dist-packages/sklearn/linear_model/_logistic.py:465: ConvergenceWarning: lbfgs failed to converge (status=1):\n",
            "STOP: TOTAL NO. OF ITERATIONS REACHED LIMIT.\n",
            "\n",
            "Increase the number of iterations (max_iter) or scale the data as shown in:\n",
            "    https://scikit-learn.org/stable/modules/preprocessing.html\n",
            "Please also refer to the documentation for alternative solver options:\n",
            "    https://scikit-learn.org/stable/modules/linear_model.html#logistic-regression\n",
            "  n_iter_i = _check_optimize_result(\n"
          ]
        }
      ],
      "source": [
        "# from sklearn.linear_model import LogisticRegression\n",
        "\n",
        "# Crear y entrenar RL con datos imputados\n",
        "log_model = LogisticRegression(\n",
        "    multi_class=\"multinomial\",\n",
        "    solver=\"lbfgs\",\n",
        "    max_iter=5000,\n",
        "    random_state=42\n",
        ")\n",
        "\n",
        "log_model.fit(X_train, y_train)\n",
        "y_pred_log = log_model.predict(X_test)\n",
        "\n",
        "# Métricas\n",
        "print(\"Accuracy:\", accuracy_score(y_test, y_pred_log))\n",
        "print(\"\\nClassification Report:\\n\", classification_report(y_test, y_pred_log))\n",
        "print(\"\\nMatriz de confusión:\\n\", confusion_matrix(y_test, y_pred_log))"
      ]
    },
    {
      "cell_type": "markdown",
      "source": [
        "#### Resultado de Regresión Logística\n",
        "\n",
        "Se evaluó la regresión logística con dos configuraciones de iteraciones `max_iter`:  \n",
        "\n",
        "- **Con 1000 iteraciones**  \n",
        "  - **Accuracy ≈ 0.73**.  \n",
        "  - **Macro avg y Weighted avg ≈ 0.73**.  \n",
        "  - **Clase 0 baja ** → recall = 0.81 → detecta bien.  \n",
        "  - **Clase 1 media** → precisión = 0.88, pero recall = 0.75.  \n",
        "  - **Clase 2 alta ** → recall = 0.64 → sigue siendo la más difícil de identificar.  \n",
        "\n",
        "- **Con 5000 iteraciones**  \n",
        "  - **Accuracy ≈ 0.84** → mejora en desempeño.  \n",
        "  - Clases baja y media alcanzan recalls muy altos (0.95 y 0.93).  \n",
        "  - La clase alta sube un poco pero sigue siendo la más débil recall = 0.65.  \n",
        "\n",
        "- ♦ **Matriz de confusión - con 5000 iteraciones:**  \n",
        "  - Baja → 106/111 ≈ 95% correctos.  \n",
        "  - Media → 103/111 ≈ 93% correctos.  \n",
        "  - Alta → 71/110 ≈ 65% correctos.  \n",
        "\n",
        "**Interpretación:**  \n",
        "> - Al aumentar iteraciones, el modelo mejora bastante, de 0.73 → 0.84 de accuracy.  \n",
        "> - La clase alta sigue siendo la más difícil, aunque con leve mejora.  \n",
        "> - Aparecen advertencias de convergencia que no termino de resolver, pero los resultados muestran la diferencia entre configuraciones.\n"
      ],
      "metadata": {
        "id": "6pmMubfhMVWh"
      }
    },
    {
      "cell_type": "markdown",
      "metadata": {
        "id": "UtfYgxCZz2hr"
      },
      "source": [
        "###⚙️ Modelo 3: Random Forest\n"
      ]
    },
    {
      "cell_type": "code",
      "execution_count": 22,
      "metadata": {
        "id": "6f98ef0e",
        "colab": {
          "base_uri": "https://localhost:8080/"
        },
        "outputId": "cf3c41fc-2b9f-4140-bb29-425f9b31d25d"
      },
      "outputs": [
        {
          "output_type": "stream",
          "name": "stdout",
          "text": [
            "Accuracy: 0.8042168674698795\n",
            "\n",
            "Classification Report:\n",
            "               precision    recall  f1-score   support\n",
            "\n",
            "           0       0.84      0.87      0.85       111\n",
            "           1       0.80      0.82      0.81       111\n",
            "           2       0.77      0.72      0.75       110\n",
            "\n",
            "    accuracy                           0.80       332\n",
            "   macro avg       0.80      0.80      0.80       332\n",
            "weighted avg       0.80      0.80      0.80       332\n",
            "\n",
            "\n",
            "Matriz de confusión:\n",
            " [[97  6  8]\n",
            " [ 5 91 15]\n",
            " [14 17 79]]\n"
          ]
        }
      ],
      "source": [
        "# from sklearn.ensemble import RandomForestClassifier\n",
        "\n",
        "# Crear y entrenar RF\n",
        "rf_model = RandomForestClassifier(\n",
        "    n_estimators=100,   # número de árboles\n",
        "    max_depth=None,     # sin límite de profundidad\n",
        "    random_state=42\n",
        ")\n",
        "rf_model.fit(X_train, y_train)\n",
        "\n",
        "# Predicciones\n",
        "y_pred_rf = rf_model.predict(X_test)\n",
        "\n",
        "# Métricas\n",
        "print(\"Accuracy:\", accuracy_score(y_test, y_pred_rf))\n",
        "print(\"\\nClassification Report:\\n\", classification_report(y_test, y_pred_rf))\n",
        "print(\"\\nMatriz de confusión:\\n\", confusion_matrix(y_test, y_pred_rf))"
      ]
    },
    {
      "cell_type": "markdown",
      "source": [
        "#### ► Resultado de Random Forest\n",
        "\n",
        "> - **Accuracy 0.80**.  \n",
        "> - **Macro avg y Weighted avg = 0.80** → desempeño consistente entre clases.  \n",
        "> - **Clase 0 ** → recall = 0.87, el modelo detecta muy bien los tráilers con baja favorabilidad.\n",
        "> - **Clase 1** → precisión = 0.80 y recall = 0.82.  \n",
        "> - **Clase 2 ** → recall = 0.72 → mejora frente a los otros modelos, aunque sigue siendo la más difícil de predecir.\n",
        "\n",
        "- ♦ **Matriz de confusión:**  \n",
        "  - Baja → 97/111 ≈ 87% correctos.  \n",
        "  - Media → 91/111 ≈ 82% correctos.  \n",
        "  - Alta → 79/110 ≈ 72% correctos.  \n",
        "\n",
        "- ♦ RandomForest vs Regresión logistica (5000mil itereacions)\n",
        "  - **Regresión Logística 5000 iteraciones:** mejor accuracy global **0.84 vs 0.80**, pero con desequilibrio entre clases → baja y media lo hace muy bien, alta es floja.  \n",
        "  - **Random Forest:** menor accuracy global, pero más balanceado → no llega al 0.95 de recall en baja/media, pero es mas preciso en alta.  \n",
        "\n",
        "- Interpretación:\n",
        "  - **Random Forest** ofrece un rendimiento más equilibrado entre las clases.\n",
        "\n",
        "---\n",
        "\n"
      ],
      "metadata": {
        "id": "5vo6HCIYvOIc"
      }
    },
    {
      "cell_type": "markdown",
      "metadata": {
        "id": "N6lU3F040Guu"
      },
      "source": [
        "##📌 Metricas"
      ]
    },
    {
      "cell_type": "markdown",
      "source": [
        "### Comparación de métricas entre modelos\n",
        "\n",
        "- Se presentan las métricas de desempeño del Random Forest, junto con su matriz de confusión visualizada."
      ],
      "metadata": {
        "id": "a_FMeMsL1Tgs"
      }
    },
    {
      "cell_type": "code",
      "execution_count": 23,
      "metadata": {
        "id": "RNS2fbg1xJ5z",
        "colab": {
          "base_uri": "https://localhost:8080/"
        },
        "outputId": "224cedcd-58ab-4205-bd9d-5f81e6fe8f64"
      },
      "outputs": [
        {
          "output_type": "stream",
          "name": "stdout",
          "text": [
            "                Modelo  Accuracy  F1 Baja  F1 Media  F1 Alta\n",
            "0    Árbol de Decisión      0.70     0.73      0.74     0.64\n",
            "1  Regresión Logística      0.73     0.72      0.81     0.67\n",
            "2        Random Forest      0.80     0.85      0.81     0.75\n"
          ]
        }
      ],
      "source": [
        "# Resultados obtenidos manualmente de cada modelo\n",
        "resultados = pd.DataFrame({\n",
        "    \"Modelo\": [\"Árbol de Decisión\", \"Regresión Logística\", \"Random Forest\"],\n",
        "    \"Accuracy\": [0.70, 0.73, 0.80],\n",
        "    \"F1 Baja\": [0.73, 0.72, 0.85],\n",
        "    \"F1 Media\": [0.74, 0.81, 0.81],\n",
        "    \"F1 Alta\": [0.64, 0.67, 0.75]\n",
        "})\n",
        "\n",
        "print(resultados)"
      ]
    },
    {
      "cell_type": "markdown",
      "metadata": {
        "id": "i9HKJkAsaR8w"
      },
      "source": [
        "### Accuracy\n",
        "% de predicciones correctas sobre el total."
      ]
    },
    {
      "cell_type": "code",
      "execution_count": 24,
      "metadata": {
        "id": "9me4EchjHheE",
        "colab": {
          "base_uri": "https://localhost:8080/"
        },
        "outputId": "689c1bd2-238f-42d1-c0eb-2ec0123a2164"
      },
      "outputs": [
        {
          "output_type": "stream",
          "name": "stdout",
          "text": [
            "Accuracy: 0.7048192771084337\n"
          ]
        }
      ],
      "source": [
        "# from sklearn.metrics import accuracy_score\n",
        "acc = accuracy_score(y_test, y_pred)\n",
        "print(\"Accuracy:\", acc)"
      ]
    },
    {
      "cell_type": "code",
      "source": [
        "cm = confusion_matrix(y_test, y_pred_rf)\n",
        "labels = np.unique(y_test)   # es para el orden correcto de las clases\n",
        "\n",
        "plt.figure(figsize=(6, 5))\n",
        "sns.heatmap(cm, annot=True, fmt=\"d\", cmap=\"Blues\",\n",
        "            xticklabels=labels,\n",
        "            yticklabels=labels)\n",
        "plt.xlabel(\"Predicción\")\n",
        "plt.ylabel(\"Real\")\n",
        "plt.title(\"Matriz de Confusión - Random Forest\")\n",
        "plt.show()"
      ],
      "metadata": {
        "id": "Jvif92yt6ciy",
        "colab": {
          "base_uri": "https://localhost:8080/",
          "height": 487
        },
        "outputId": "a0ac5de9-2bfe-4500-ffd8-fa85ce99340a"
      },
      "execution_count": 25,
      "outputs": [
        {
          "output_type": "display_data",
          "data": {
            "text/plain": [
              "<Figure size 600x500 with 2 Axes>"
            ],
            "image/png": "[encoded data removed]"
          },
          "metadata": {}
        }
      ]
    },
    {
      "cell_type": "markdown",
      "metadata": {
        "id": "73fcf9d8"
      },
      "source": [
        "# 📌 Conclusiones\n",
        "\n",
        "- Al inicio exploramos variables como los géneros de películas, pero al aplicar reducción de dimensionalidad las variables más relevantes resultaron ser otras características del dataset.  \n",
        ">\n",
        "> - En la **Parte II EDA** se exploraron variables como género y presupuesto para generar hipótesis y contexto de negocio.  \n",
        "> - En la **Parte III ML**, el objetivo es predecir la favorabilidad `favorability_level_3`.\n",
        "\n",
        "\n",
        "- Se entrenaron tres clasificadores: **Árbol de Decisión, Regresión Logística y Random Forest**.  \n",
        "- El mejor rendimiento lo tuvo **Random Forest**, con un buen balance entre *precision* y *recall*, y un **accuracy cercano al 80%**.  \n",
        "\n",
        "---\n",
        "\n",
        "►  Este proyecto fue un ejercicio exploratorio para aplicar Machine Learning en un dataset de trailers.  \n",
        "- El objetivo fue:\n",
        "> → Experimentar con selección de variables, entrenar modelos y evaluar.  \n"
      ]
    }
  ],
  "metadata": {
    "colab": {
      "provenance": [],
      "toc_visible": true
    },
    "kernelspec": {
      "display_name": "Python 3",
      "name": "python3"
    },
    "language_info": {
      "name": "python"
    }
  },
  "nbformat": 4,
  "nbformat_minor": 0
}
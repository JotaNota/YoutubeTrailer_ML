{
  "cells": [
    {
      "cell_type": "markdown",
      "metadata": {
        "id": "5hINehdHyEY0"
      },
      "source": [
        "# Requirements"
      ]
    },
    {
      "cell_type": "code",
      "execution_count": 7,
      "metadata": {
        "id": "IfSNiZNCyMiK"
      },
      "outputs": [],
      "source": [
        "import pandas as pd\n",
        "import numpy as np\n",
        "import matplotlib.pyplot as plt\n",
        "import seaborn as sns\n",
        "\n",
        "from sklearn.feature_selection import SelectKBest, chi2, f_classif\n",
        "from sklearn.model_selection import train_test_split\n",
        "from sklearn.tree import DecisionTreeClassifier\n",
        "from sklearn.linear_model import LogisticRegression\n",
        "from sklearn.ensemble import RandomForestClassifier\n",
        "from sklearn.metrics import accuracy_score, classification_report, confusion_matrix\n",
        "from sklearn.preprocessing import LabelEncoder\n",
        "from sklearn.impute import SimpleImputer\n",
        "\n",
        "import ast"
      ]
    },
    {
      "cell_type": "markdown",
      "metadata": {
        "id": "nlGQpYEs6GlW"
      },
      "source": [
        "# ► Entrega I — Análisis Exploratorio\n",
        "\n"
      ]
    },
    {
      "cell_type": "markdown",
      "metadata": {
        "id": "NFR2isR4kabO"
      },
      "source": [
        "# 📝 Análisis exploratorio de sentimientos y rendimiento en trailers de películas\n"
      ]
    },
    {
      "cell_type": "markdown",
      "metadata": {
        "id": "oWG8WI-_AEPD"
      },
      "source": [
        "## 📌 __Carga del dataset__\n",
        "---\n",
        "\n",
        "*   El archivo `movies_youtube_sentiments.csv` lo subí desde githhub."
      ]
    },
    {
      "cell_type": "code",
      "execution_count": 8,
      "metadata": {
        "collapsed": true,
        "id": "JeSiAQDH6Izf"
      },
      "outputs": [
        {
          "name": "stdout",
          "output_type": "stream",
          "text": [
            "<class 'pandas.core.frame.DataFrame'>\n",
            "RangeIndex: 1105 entries, 0 to 1104\n",
            "Data columns (total 18 columns):\n",
            " #   Column            Non-Null Count  Dtype  \n",
            "---  ------            --------------  -----  \n",
            " 0   name              1105 non-null   object \n",
            " 1   trailer_link      1105 non-null   object \n",
            " 2   video_id          1105 non-null   object \n",
            " 3   sentiment_scores  1105 non-null   object \n",
            " 4   favorability      1105 non-null   float64\n",
            " 5   rating            1104 non-null   object \n",
            " 6   genre             1105 non-null   object \n",
            " 7   year              1105 non-null   int64  \n",
            " 8   released          1105 non-null   object \n",
            " 9   votes             1105 non-null   float64\n",
            " 10  director          1105 non-null   object \n",
            " 11  writer            1104 non-null   object \n",
            " 12  star              1105 non-null   object \n",
            " 13  country           1105 non-null   object \n",
            " 14  budget            901 non-null    float64\n",
            " 15  gross             1105 non-null   float64\n",
            " 16  company           1105 non-null   object \n",
            " 17  runtime           1104 non-null   float64\n",
            "dtypes: float64(5), int64(1), object(12)\n",
            "memory usage: 155.5+ KB\n"
          ]
        }
      ],
      "source": [
        "url = \"https://raw.githubusercontent.com/JotaNota/YoutubeTrailer_ML/main/data/raw/movies_youtube_sentiments.csv\"\n",
        "df = pd.read_csv(url)\n",
        "\n",
        "df.info()\n"
      ]
    },
    {
      "cell_type": "code",
      "execution_count": 9,
      "metadata": {
        "colab": {
          "base_uri": "https://localhost:8080/",
          "height": 337
        },
        "collapsed": true,
        "id": "lgvz463Kxocq",
        "outputId": "0d709b83-143b-4ec9-84a6-27fa355847d1"
      },
      "outputs": [
        {
          "data": {
            "text/html": [
              "<div>\n",
              "<style scoped>\n",
              "    .dataframe tbody tr th:only-of-type {\n",
              "        vertical-align: middle;\n",
              "    }\n",
              "\n",
              "    .dataframe tbody tr th {\n",
              "        vertical-align: top;\n",
              "    }\n",
              "\n",
              "    .dataframe thead th {\n",
              "        text-align: right;\n",
              "    }\n",
              "</style>\n",
              "<table border=\"1\" class=\"dataframe\">\n",
              "  <thead>\n",
              "    <tr style=\"text-align: right;\">\n",
              "      <th></th>\n",
              "      <th>name</th>\n",
              "      <th>trailer_link</th>\n",
              "      <th>video_id</th>\n",
              "      <th>sentiment_scores</th>\n",
              "      <th>favorability</th>\n",
              "      <th>rating</th>\n",
              "      <th>genre</th>\n",
              "      <th>year</th>\n",
              "      <th>released</th>\n",
              "      <th>votes</th>\n",
              "      <th>director</th>\n",
              "      <th>writer</th>\n",
              "      <th>star</th>\n",
              "      <th>country</th>\n",
              "      <th>budget</th>\n",
              "      <th>gross</th>\n",
              "      <th>company</th>\n",
              "      <th>runtime</th>\n",
              "    </tr>\n",
              "  </thead>\n",
              "  <tbody>\n",
              "    <tr>\n",
              "      <th>0</th>\n",
              "      <td>Harry Potter and the Goblet of Fire</td>\n",
              "      <td>https://www.youtube.com/watch?v=3EGojp4Hh6I</td>\n",
              "      <td>3EGojp4Hh6I</td>\n",
              "      <td>{'positive': 87, 'neutral': 112, 'negative': 51}</td>\n",
              "      <td>0.630435</td>\n",
              "      <td>PG-13</td>\n",
              "      <td>Adventure</td>\n",
              "      <td>2005</td>\n",
              "      <td>November 18, 2005 (United States)</td>\n",
              "      <td>566000.0</td>\n",
              "      <td>Mike Newell</td>\n",
              "      <td>Steve Kloves</td>\n",
              "      <td>Daniel Radcliffe</td>\n",
              "      <td>United Kingdom</td>\n",
              "      <td>150000000.0</td>\n",
              "      <td>896678241.0</td>\n",
              "      <td>Warner Bros.</td>\n",
              "      <td>157.0</td>\n",
              "    </tr>\n",
              "    <tr>\n",
              "      <th>1</th>\n",
              "      <td>The 40-Year-Old Virgin</td>\n",
              "      <td>https://www.youtube.com/watch?v=YnDeJn-BX5Q</td>\n",
              "      <td>YnDeJn-BX5Q</td>\n",
              "      <td>{'positive': 40, 'neutral': 45, 'negative': 18}</td>\n",
              "      <td>0.689655</td>\n",
              "      <td>R</td>\n",
              "      <td>Comedy</td>\n",
              "      <td>2005</td>\n",
              "      <td>August 19, 2005 (United States)</td>\n",
              "      <td>407000.0</td>\n",
              "      <td>Judd Apatow</td>\n",
              "      <td>Judd Apatow</td>\n",
              "      <td>Steve Carell</td>\n",
              "      <td>United States</td>\n",
              "      <td>26000000.0</td>\n",
              "      <td>177378645.0</td>\n",
              "      <td>Universal Pictures</td>\n",
              "      <td>116.0</td>\n",
              "    </tr>\n",
              "    <tr>\n",
              "      <th>2</th>\n",
              "      <td>Memoirs of a Geisha</td>\n",
              "      <td>https://www.youtube.com/watch?v=4L-xlmakQvc</td>\n",
              "      <td>4L-xlmakQvc</td>\n",
              "      <td>{'positive': 120, 'neutral': 89, 'negative': 41}</td>\n",
              "      <td>0.745342</td>\n",
              "      <td>PG-13</td>\n",
              "      <td>Drama</td>\n",
              "      <td>2005</td>\n",
              "      <td>December 23, 2005 (United States)</td>\n",
              "      <td>141000.0</td>\n",
              "      <td>Rob Marshall</td>\n",
              "      <td>Robin Swicord</td>\n",
              "      <td>Ziyi Zhang</td>\n",
              "      <td>France</td>\n",
              "      <td>85000000.0</td>\n",
              "      <td>162242962.0</td>\n",
              "      <td>Columbia Pictures</td>\n",
              "      <td>145.0</td>\n",
              "    </tr>\n",
              "  </tbody>\n",
              "</table>\n",
              "</div>"
            ],
            "text/plain": [
              "                                  name  \\\n",
              "0  Harry Potter and the Goblet of Fire   \n",
              "1               The 40-Year-Old Virgin   \n",
              "2                  Memoirs of a Geisha   \n",
              "\n",
              "                                  trailer_link     video_id  \\\n",
              "0  https://www.youtube.com/watch?v=3EGojp4Hh6I  3EGojp4Hh6I   \n",
              "1  https://www.youtube.com/watch?v=YnDeJn-BX5Q  YnDeJn-BX5Q   \n",
              "2  https://www.youtube.com/watch?v=4L-xlmakQvc  4L-xlmakQvc   \n",
              "\n",
              "                                   sentiment_scores  favorability rating  \\\n",
              "0  {'positive': 87, 'neutral': 112, 'negative': 51}      0.630435  PG-13   \n",
              "1   {'positive': 40, 'neutral': 45, 'negative': 18}      0.689655      R   \n",
              "2  {'positive': 120, 'neutral': 89, 'negative': 41}      0.745342  PG-13   \n",
              "\n",
              "       genre  year                           released     votes      director  \\\n",
              "0  Adventure  2005  November 18, 2005 (United States)  566000.0   Mike Newell   \n",
              "1     Comedy  2005    August 19, 2005 (United States)  407000.0   Judd Apatow   \n",
              "2      Drama  2005  December 23, 2005 (United States)  141000.0  Rob Marshall   \n",
              "\n",
              "          writer              star         country       budget        gross  \\\n",
              "0   Steve Kloves  Daniel Radcliffe  United Kingdom  150000000.0  896678241.0   \n",
              "1    Judd Apatow      Steve Carell   United States   26000000.0  177378645.0   \n",
              "2  Robin Swicord        Ziyi Zhang          France   85000000.0  162242962.0   \n",
              "\n",
              "              company  runtime  \n",
              "0        Warner Bros.    157.0  \n",
              "1  Universal Pictures    116.0  \n",
              "2   Columbia Pictures    145.0  "
            ]
          },
          "execution_count": 9,
          "metadata": {},
          "output_type": "execute_result"
        }
      ],
      "source": [
        "# Leer y explorar las primeras filas del dataset\n",
        "df.head(3)"
      ]
    },
    {
      "cell_type": "markdown",
      "metadata": {
        "id": "8_1fnEKcx3ff"
      },
      "source": []
    },
    {
      "cell_type": "code",
      "execution_count": 10,
      "metadata": {
        "colab": {
          "base_uri": "https://localhost:8080/"
        },
        "collapsed": true,
        "id": "ATQ6ghNwCWTc",
        "outputId": "f0fc2867-9a5e-446e-fd45-ed8ecb691932"
      },
      "outputs": [
        {
          "name": "stdout",
          "output_type": "stream",
          "text": [
            "<class 'pandas.core.frame.DataFrame'>\n",
            "RangeIndex: 1105 entries, 0 to 1104\n",
            "Data columns (total 18 columns):\n",
            " #   Column            Non-Null Count  Dtype  \n",
            "---  ------            --------------  -----  \n",
            " 0   name              1105 non-null   object \n",
            " 1   trailer_link      1105 non-null   object \n",
            " 2   video_id          1105 non-null   object \n",
            " 3   sentiment_scores  1105 non-null   object \n",
            " 4   favorability      1105 non-null   float64\n",
            " 5   rating            1104 non-null   object \n",
            " 6   genre             1105 non-null   object \n",
            " 7   year              1105 non-null   int64  \n",
            " 8   released          1105 non-null   object \n",
            " 9   votes             1105 non-null   float64\n",
            " 10  director          1105 non-null   object \n",
            " 11  writer            1104 non-null   object \n",
            " 12  star              1105 non-null   object \n",
            " 13  country           1105 non-null   object \n",
            " 14  budget            901 non-null    float64\n",
            " 15  gross             1105 non-null   float64\n",
            " 16  company           1105 non-null   object \n",
            " 17  runtime           1104 non-null   float64\n",
            "dtypes: float64(5), int64(1), object(12)\n",
            "memory usage: 155.5+ KB\n"
          ]
        }
      ],
      "source": [
        "# Revisar estructura general y nombres de columnas\n",
        "df.info()"
      ]
    },
    {
      "cell_type": "code",
      "execution_count": 11,
      "metadata": {
        "colab": {
          "base_uri": "https://localhost:8080/"
        },
        "collapsed": true,
        "id": "sOz0GbiQCv2m",
        "outputId": "537cd493-3aec-47ca-8062-bccc736b07ee"
      },
      "outputs": [
        {
          "name": "stdout",
          "output_type": "stream",
          "text": [
            "name\n",
            "trailer_link\n",
            "video_id\n",
            "sentiment_scores\n",
            "favorability\n",
            "rating\n",
            "genre\n",
            "year\n",
            "released\n",
            "votes\n",
            "director\n",
            "writer\n",
            "star\n",
            "country\n",
            "budget\n",
            "gross\n",
            "company\n",
            "runtime\n"
          ]
        }
      ],
      "source": [
        "print(*df.columns, sep=\"\\n\")"
      ]
    },
    {
      "cell_type": "code",
      "execution_count": 12,
      "metadata": {
        "id": "4zwlWLgvm3sN"
      },
      "outputs": [],
      "source": [
        "# Eliminar columnas que no son útiles para el análisis\n",
        "df = df.drop(columns=['video_id'], errors='ignore')"
      ]
    },
    {
      "cell_type": "code",
      "execution_count": 13,
      "metadata": {
        "colab": {
          "base_uri": "https://localhost:8080/",
          "height": 210
        },
        "collapsed": true,
        "id": "7yUYbhiwCvtD",
        "outputId": "fa555317-2eb7-4412-af6a-48034f6fade1"
      },
      "outputs": [
        {
          "data": {
            "text/plain": [
              "rating       1\n",
              "writer       1\n",
              "budget     204\n",
              "runtime      1\n",
              "dtype: int64"
            ]
          },
          "execution_count": 13,
          "metadata": {},
          "output_type": "execute_result"
        }
      ],
      "source": [
        "# Verificar que columnas contienen nulos\n",
        "df.isnull().sum()[df.isnull().sum() > 0]"
      ]
    },
    {
      "cell_type": "code",
      "execution_count": 14,
      "metadata": {
        "colab": {
          "base_uri": "https://localhost:8080/",
          "height": 210
        },
        "collapsed": true,
        "id": "HewL3VzPCvjC",
        "outputId": "432aa8a0-376b-4d85-f17e-56ab77553b15"
      },
      "outputs": [
        {
          "data": {
            "text/plain": [
              "rating      0.090498\n",
              "writer      0.090498\n",
              "budget     18.461538\n",
              "runtime     0.090498\n",
              "dtype: float64"
            ]
          },
          "execution_count": 14,
          "metadata": {},
          "output_type": "execute_result"
        }
      ],
      "source": [
        "# Porcentaje de nulos por columna\n",
        "((df.isnull().sum() / len(df)) * 100)[(df.isnull().sum() / len(df)) * 100 > 0]"
      ]
    },
    {
      "cell_type": "markdown",
      "metadata": {
        "id": "j19wbuf4E7Hg"
      },
      "source": [
        "### _Notas sobre valores faltantes_\n",
        "\n",
        "Durante el análisis inicial noté que algunas columnas tienen valores faltantes, entre ellas **`budget`**. Por ahora, no haré nada con esos datos. Primero veré cómo impactan en los gráficos y análisis numéricos. Más adelante, siafectan los resultados, evaluaré qué hacer, puede ser: eliminar filas, completar con promedios, medianas o trabajar solo con los datos que sí estén completos."
      ]
    },
    {
      "cell_type": "markdown",
      "metadata": {
        "id": "cc2RzGUINJN-"
      },
      "source": [
        "## 📌__Creacion de columnas `positive`, `neutral`,`negative`__\n",
        "---\n",
        "\n",
        "* `sentiment_dicts` es una variable aparte del DataFrame.\n",
        "* La creé a partir de la columna sentiment_scores, que originalmente es un str.\n",
        "* Contiene un diccionario por cada fila, para poder acceder por separado a cada parte del contenido (por ejemplo, positive, neutral, negative) y usarlos para crear columnas independientes."
      ]
    },
    {
      "cell_type": "code",
      "execution_count": 15,
      "metadata": {
        "colab": {
          "base_uri": "https://localhost:8080/"
        },
        "collapsed": true,
        "id": "7MpGWf6cM6-c",
        "outputId": "02b1c808-1bd3-4072-f157-7f7ea919f892"
      },
      "outputs": [
        {
          "data": {
            "text/plain": [
              "\"{'positive': 87, 'neutral': 112, 'negative': 51}\""
            ]
          },
          "execution_count": 15,
          "metadata": {},
          "output_type": "execute_result"
        }
      ],
      "source": [
        "# Miramos el contenido de un valor para entender cómo está formateado\n",
        "df['sentiment_scores'].iloc[0]"
      ]
    },
    {
      "cell_type": "code",
      "execution_count": 16,
      "metadata": {
        "colab": {
          "base_uri": "https://localhost:8080/"
        },
        "collapsed": true,
        "id": "Xc5LOu-EM6mu",
        "outputId": "b0b5e3f0-4429-4e43-861c-b8e5193bfcf2"
      },
      "outputs": [
        {
          "data": {
            "text/plain": [
              "str"
            ]
          },
          "execution_count": 16,
          "metadata": {},
          "output_type": "execute_result"
        }
      ],
      "source": [
        "type(df['sentiment_scores'].iloc[0])"
      ]
    },
    {
      "cell_type": "code",
      "execution_count": 17,
      "metadata": {
        "colab": {
          "base_uri": "https://localhost:8080/"
        },
        "id": "JGFBkAUqK3_2",
        "outputId": "72221739-1c2f-4ebb-b051-e60c10f1a3a8"
      },
      "outputs": [
        {
          "data": {
            "text/plain": [
              "dict"
            ]
          },
          "execution_count": 17,
          "metadata": {},
          "output_type": "execute_result"
        }
      ],
      "source": [
        "# Usé `import ast` para convertir texto a un diccionario y poder acceder a sus claves.\n",
        "# Convertimos el texto en un diccionario\n",
        "sentiment_dicts = df['sentiment_scores'].apply(ast.literal_eval)\n",
        "type(sentiment_dicts.iloc[0])"
      ]
    },
    {
      "cell_type": "code",
      "execution_count": 18,
      "metadata": {
        "colab": {
          "base_uri": "https://localhost:8080/"
        },
        "collapsed": true,
        "id": "Z-vS6CZMNcEa",
        "outputId": "ed50e092-ecc6-45c7-82e4-a5e04c42dd97"
      },
      "outputs": [
        {
          "data": {
            "text/plain": [
              "0    {'positive': 87, 'neutral': 112, 'negative': 51}\n",
              "1     {'positive': 40, 'neutral': 45, 'negative': 18}\n",
              "2    {'positive': 120, 'neutral': 89, 'negative': 41}\n",
              "3     {'positive': 93, 'neutral': 98, 'negative': 19}\n",
              "4    {'positive': 128, 'neutral': 97, 'negative': 25}\n",
              "Name: sentiment_scores, dtype: object"
            ]
          },
          "execution_count": 18,
          "metadata": {},
          "output_type": "execute_result"
        }
      ],
      "source": [
        "sentiment_dicts.head()"
      ]
    },
    {
      "cell_type": "markdown",
      "metadata": {
        "id": "dMI9Aj8Ds0mz"
      },
      "source": [
        "### Columnas `positive`, `neutral`,`negative`"
      ]
    },
    {
      "cell_type": "code",
      "execution_count": 19,
      "metadata": {
        "id": "c_EKsLsFNb4u"
      },
      "outputs": [],
      "source": [
        "# Crear Columnas\n",
        "# Extrae el valor de la clave 'positive' de cada diccionario y lo guarda en una nueva columna del DataFrame\n",
        "df['positive'] = sentiment_dicts.apply(lambda x: x['positive'])\n",
        "\n",
        "# Extrae el valor de la clave 'neutral' y lo guarda como nueva columna\n",
        "df['neutral'] = sentiment_dicts.apply(lambda x: x['neutral'])\n",
        "\n",
        "# Extrae el valor de la clave 'negative' y lo guarda como nueva columna\n",
        "df['negative'] = sentiment_dicts.apply(lambda x: x['negative'])\n"
      ]
    },
    {
      "cell_type": "code",
      "execution_count": 20,
      "metadata": {
        "colab": {
          "base_uri": "https://localhost:8080/"
        },
        "collapsed": true,
        "id": "iCD_14ZERWaz",
        "outputId": "2b60bb91-7a2e-4580-fe04-1c2d60c828f1"
      },
      "outputs": [
        {
          "data": {
            "text/html": [
              "<div>\n",
              "<style scoped>\n",
              "    .dataframe tbody tr th:only-of-type {\n",
              "        vertical-align: middle;\n",
              "    }\n",
              "\n",
              "    .dataframe tbody tr th {\n",
              "        vertical-align: top;\n",
              "    }\n",
              "\n",
              "    .dataframe thead th {\n",
              "        text-align: right;\n",
              "    }\n",
              "</style>\n",
              "<table border=\"1\" class=\"dataframe\">\n",
              "  <thead>\n",
              "    <tr style=\"text-align: right;\">\n",
              "      <th></th>\n",
              "      <th>positive</th>\n",
              "      <th>neutral</th>\n",
              "      <th>negative</th>\n",
              "    </tr>\n",
              "  </thead>\n",
              "  <tbody>\n",
              "    <tr>\n",
              "      <th>0</th>\n",
              "      <td>87</td>\n",
              "      <td>112</td>\n",
              "      <td>51</td>\n",
              "    </tr>\n",
              "    <tr>\n",
              "      <th>1</th>\n",
              "      <td>40</td>\n",
              "      <td>45</td>\n",
              "      <td>18</td>\n",
              "    </tr>\n",
              "    <tr>\n",
              "      <th>2</th>\n",
              "      <td>120</td>\n",
              "      <td>89</td>\n",
              "      <td>41</td>\n",
              "    </tr>\n",
              "    <tr>\n",
              "      <th>3</th>\n",
              "      <td>93</td>\n",
              "      <td>98</td>\n",
              "      <td>19</td>\n",
              "    </tr>\n",
              "    <tr>\n",
              "      <th>4</th>\n",
              "      <td>128</td>\n",
              "      <td>97</td>\n",
              "      <td>25</td>\n",
              "    </tr>\n",
              "  </tbody>\n",
              "</table>\n",
              "</div>"
            ],
            "text/plain": [
              "   positive  neutral  negative\n",
              "0        87      112        51\n",
              "1        40       45        18\n",
              "2       120       89        41\n",
              "3        93       98        19\n",
              "4       128       97        25"
            ]
          },
          "execution_count": 20,
          "metadata": {},
          "output_type": "execute_result"
        }
      ],
      "source": [
        "# Mostrar solo las columnas nuevas para revisar sus valores\n",
        "df[['positive', 'neutral', 'negative']].head()\n"
      ]
    },
    {
      "cell_type": "code",
      "execution_count": 21,
      "metadata": {
        "colab": {
          "base_uri": "https://localhost:8080/"
        },
        "collapsed": true,
        "id": "k-XLOPx4RWRp",
        "outputId": "575cc903-a9d7-4974-f4f4-cce510d9cb35"
      },
      "outputs": [
        {
          "data": {
            "text/plain": [
              "positive    0\n",
              "neutral     0\n",
              "negative    0\n",
              "dtype: int64"
            ]
          },
          "execution_count": 21,
          "metadata": {},
          "output_type": "execute_result"
        }
      ],
      "source": [
        "# Revisar que no tenga valores faltantes\n",
        "df[['positive', 'neutral', 'negative']].isnull().sum()"
      ]
    },
    {
      "cell_type": "markdown",
      "metadata": {
        "id": "fmERFhq-zJKj"
      },
      "source": [
        "## __📌 Crear variables derivadas__\n",
        "\n",
        "---\n",
        "### Columnas nuevas que vamos a crear\n",
        "- `total_comments`: suma de comentarios positivos, neutrales y negativos por video.\n",
        "- `positive_ratio`: proporción de comentarios positivos sobre el total.\n",
        "- `emotional_balance`: diferencia entre comentarios positivos y negativos.\n",
        "- `favorability_level`: clasificación del video según su nivel de comentarios positivos (muy baja, baja, media, alta, muy alta).\n",
        "\n",
        "\n",
        "### Para qué?\n",
        "\n",
        "\n",
        "- `total_comments`: nos va a permitir saber cuántos comentarios totales tuvo cada video.\n",
        "- `positive_ratio`: nos ayuda a calcular qué proporción de comentarios fueron positivos.\n",
        "- `emotional_balance`: nos permite ver el balance emocional entre comentarios positivos y negativos.\n",
        "- `favorability_level`: nos sirve para clasificar los videos según su nivel de comentarios positivos (muy baja, baja, media, alta, muy alta).\n"
      ]
    },
    {
      "cell_type": "markdown",
      "metadata": {
        "id": "rvENirlMSZ-F"
      },
      "source": [
        "### __Columna `total_comments`__\n"
      ]
    },
    {
      "cell_type": "code",
      "execution_count": 22,
      "metadata": {
        "colab": {
          "base_uri": "https://localhost:8080/",
          "height": 206
        },
        "collapsed": true,
        "id": "TOgd3w9URWDo",
        "outputId": "ed290725-38d3-4dff-af88-957adf7fb718"
      },
      "outputs": [
        {
          "data": {
            "text/html": [
              "<div>\n",
              "<style scoped>\n",
              "    .dataframe tbody tr th:only-of-type {\n",
              "        vertical-align: middle;\n",
              "    }\n",
              "\n",
              "    .dataframe tbody tr th {\n",
              "        vertical-align: top;\n",
              "    }\n",
              "\n",
              "    .dataframe thead th {\n",
              "        text-align: right;\n",
              "    }\n",
              "</style>\n",
              "<table border=\"1\" class=\"dataframe\">\n",
              "  <thead>\n",
              "    <tr style=\"text-align: right;\">\n",
              "      <th></th>\n",
              "      <th>positive</th>\n",
              "      <th>neutral</th>\n",
              "      <th>negative</th>\n",
              "      <th>total_comments</th>\n",
              "    </tr>\n",
              "  </thead>\n",
              "  <tbody>\n",
              "    <tr>\n",
              "      <th>0</th>\n",
              "      <td>87</td>\n",
              "      <td>112</td>\n",
              "      <td>51</td>\n",
              "      <td>250</td>\n",
              "    </tr>\n",
              "    <tr>\n",
              "      <th>1</th>\n",
              "      <td>40</td>\n",
              "      <td>45</td>\n",
              "      <td>18</td>\n",
              "      <td>103</td>\n",
              "    </tr>\n",
              "    <tr>\n",
              "      <th>2</th>\n",
              "      <td>120</td>\n",
              "      <td>89</td>\n",
              "      <td>41</td>\n",
              "      <td>250</td>\n",
              "    </tr>\n",
              "    <tr>\n",
              "      <th>3</th>\n",
              "      <td>93</td>\n",
              "      <td>98</td>\n",
              "      <td>19</td>\n",
              "      <td>210</td>\n",
              "    </tr>\n",
              "    <tr>\n",
              "      <th>4</th>\n",
              "      <td>128</td>\n",
              "      <td>97</td>\n",
              "      <td>25</td>\n",
              "      <td>250</td>\n",
              "    </tr>\n",
              "  </tbody>\n",
              "</table>\n",
              "</div>"
            ],
            "text/plain": [
              "   positive  neutral  negative  total_comments\n",
              "0        87      112        51             250\n",
              "1        40       45        18             103\n",
              "2       120       89        41             250\n",
              "3        93       98        19             210\n",
              "4       128       97        25             250"
            ]
          },
          "execution_count": 22,
          "metadata": {},
          "output_type": "execute_result"
        }
      ],
      "source": [
        "# Sumamos los tres tipos de comentarios para obtener el total por video\n",
        "df['total_comments'] = df['positive'] + df['neutral'] + df['negative']\n",
        "df[['positive', 'neutral', 'negative', 'total_comments']].head()"
      ]
    },
    {
      "cell_type": "markdown",
      "metadata": {
        "id": "0FnHY6yt0rg5"
      },
      "source": [
        "### __Columna `positive_ratio`__\n"
      ]
    },
    {
      "cell_type": "code",
      "execution_count": 23,
      "metadata": {
        "colab": {
          "base_uri": "https://localhost:8080/",
          "height": 206
        },
        "collapsed": true,
        "id": "pfagFFM2Nbyj",
        "outputId": "97e517fd-6722-4d9c-e90b-93a87c546008"
      },
      "outputs": [
        {
          "data": {
            "text/html": [
              "<div>\n",
              "<style scoped>\n",
              "    .dataframe tbody tr th:only-of-type {\n",
              "        vertical-align: middle;\n",
              "    }\n",
              "\n",
              "    .dataframe tbody tr th {\n",
              "        vertical-align: top;\n",
              "    }\n",
              "\n",
              "    .dataframe thead th {\n",
              "        text-align: right;\n",
              "    }\n",
              "</style>\n",
              "<table border=\"1\" class=\"dataframe\">\n",
              "  <thead>\n",
              "    <tr style=\"text-align: right;\">\n",
              "      <th></th>\n",
              "      <th>positive</th>\n",
              "      <th>total_comments</th>\n",
              "      <th>positive_ratio</th>\n",
              "    </tr>\n",
              "  </thead>\n",
              "  <tbody>\n",
              "    <tr>\n",
              "      <th>0</th>\n",
              "      <td>87</td>\n",
              "      <td>250</td>\n",
              "      <td>0.348000</td>\n",
              "    </tr>\n",
              "    <tr>\n",
              "      <th>1</th>\n",
              "      <td>40</td>\n",
              "      <td>103</td>\n",
              "      <td>0.388350</td>\n",
              "    </tr>\n",
              "    <tr>\n",
              "      <th>2</th>\n",
              "      <td>120</td>\n",
              "      <td>250</td>\n",
              "      <td>0.480000</td>\n",
              "    </tr>\n",
              "    <tr>\n",
              "      <th>3</th>\n",
              "      <td>93</td>\n",
              "      <td>210</td>\n",
              "      <td>0.442857</td>\n",
              "    </tr>\n",
              "    <tr>\n",
              "      <th>4</th>\n",
              "      <td>128</td>\n",
              "      <td>250</td>\n",
              "      <td>0.512000</td>\n",
              "    </tr>\n",
              "  </tbody>\n",
              "</table>\n",
              "</div>"
            ],
            "text/plain": [
              "   positive  total_comments  positive_ratio\n",
              "0        87             250        0.348000\n",
              "1        40             103        0.388350\n",
              "2       120             250        0.480000\n",
              "3        93             210        0.442857\n",
              "4       128             250        0.512000"
            ]
          },
          "execution_count": 23,
          "metadata": {},
          "output_type": "execute_result"
        }
      ],
      "source": [
        "# Calculamos el porcentaje de comentarios positivos sobre el total\n",
        "df['positive_ratio'] = df['positive'] / df['total_comments']\n",
        "# Verificamos las nuevas columnas juntas\n",
        "df[['positive', 'total_comments', 'positive_ratio']].head()"
      ]
    },
    {
      "cell_type": "markdown",
      "metadata": {
        "id": "MSjcmUqFUcGr"
      },
      "source": [
        "### Columna `emotional_balance`\n",
        "\n"
      ]
    },
    {
      "cell_type": "code",
      "execution_count": 24,
      "metadata": {
        "colab": {
          "base_uri": "https://localhost:8080/",
          "height": 206
        },
        "id": "TE7vPU72UBEL",
        "outputId": "92893151-670b-41d1-8609-3b56c194de4c"
      },
      "outputs": [
        {
          "data": {
            "text/html": [
              "<div>\n",
              "<style scoped>\n",
              "    .dataframe tbody tr th:only-of-type {\n",
              "        vertical-align: middle;\n",
              "    }\n",
              "\n",
              "    .dataframe tbody tr th {\n",
              "        vertical-align: top;\n",
              "    }\n",
              "\n",
              "    .dataframe thead th {\n",
              "        text-align: right;\n",
              "    }\n",
              "</style>\n",
              "<table border=\"1\" class=\"dataframe\">\n",
              "  <thead>\n",
              "    <tr style=\"text-align: right;\">\n",
              "      <th></th>\n",
              "      <th>positive</th>\n",
              "      <th>negative</th>\n",
              "      <th>emotional_balance</th>\n",
              "    </tr>\n",
              "  </thead>\n",
              "  <tbody>\n",
              "    <tr>\n",
              "      <th>0</th>\n",
              "      <td>87</td>\n",
              "      <td>51</td>\n",
              "      <td>36</td>\n",
              "    </tr>\n",
              "    <tr>\n",
              "      <th>1</th>\n",
              "      <td>40</td>\n",
              "      <td>18</td>\n",
              "      <td>22</td>\n",
              "    </tr>\n",
              "    <tr>\n",
              "      <th>2</th>\n",
              "      <td>120</td>\n",
              "      <td>41</td>\n",
              "      <td>79</td>\n",
              "    </tr>\n",
              "    <tr>\n",
              "      <th>3</th>\n",
              "      <td>93</td>\n",
              "      <td>19</td>\n",
              "      <td>74</td>\n",
              "    </tr>\n",
              "    <tr>\n",
              "      <th>4</th>\n",
              "      <td>128</td>\n",
              "      <td>25</td>\n",
              "      <td>103</td>\n",
              "    </tr>\n",
              "  </tbody>\n",
              "</table>\n",
              "</div>"
            ],
            "text/plain": [
              "   positive  negative  emotional_balance\n",
              "0        87        51                 36\n",
              "1        40        18                 22\n",
              "2       120        41                 79\n",
              "3        93        19                 74\n",
              "4       128        25                103"
            ]
          },
          "execution_count": 24,
          "metadata": {},
          "output_type": "execute_result"
        }
      ],
      "source": [
        "# Calculamos la diferencia entre comentarios positivos y negativos\n",
        "df['emotional_balance'] = df['positive'] - df['negative']\n",
        "# Verificamos que la nueva columna se haya creado correctamente\n",
        "df[['positive', 'negative', 'emotional_balance']].head()"
      ]
    },
    {
      "cell_type": "markdown",
      "metadata": {
        "id": "b_UJRr7PVCNd"
      },
      "source": [
        "## 📌 Codificación de variables: `genre` y `rating`\n",
        "---\n",
        "*   Las columnas `genre` y `rating` contienen texto con categorías (por ejemplo, \"Comedy\", \"Action\", \"PG-13\", \"R\", etc.).\n",
        "* Para poder analizarlas y graficarlas, vamos a convertir esas categorías en columnas nuevas con valores 0 o 1.  \n",
        "* Usaré la función `get_dummies()` de pandas.\n",
        "\n",
        "### Por ejemplo,\n",
        "si un video es del género \"Comedy\", la columna `genre_Comedy` tendrá un 1, y las demás serán 0.\n",
        "\n",
        "### Esto nos ayuda a:\n",
        "- Comparar fácilmente entre géneros o clasificaciones\n",
        "- Filtrar por tipo de contenido\n",
        "- Hacer visualizaciones o análisis con variables numéricas\n",
        "\n",
        "Vamos a aplicar esto en las columnas `genre` y `rating`."
      ]
    },
    {
      "cell_type": "code",
      "execution_count": 25,
      "metadata": {
        "colab": {
          "base_uri": "https://localhost:8080/"
        },
        "id": "2O4Mw6UrUA3q",
        "outputId": "2c104d29-3125-49d8-ad24-a129ce2e9036"
      },
      "outputs": [
        {
          "data": {
            "text/plain": [
              "array(['Adventure', 'Comedy', 'Drama', 'Action', 'Crime', 'Horror',\n",
              "       'Thriller', 'Biography', 'Animation', 'Mystery', 'Sci-Fi',\n",
              "       'Fantasy', 'Romance'], dtype=object)"
            ]
          },
          "execution_count": 25,
          "metadata": {},
          "output_type": "execute_result"
        }
      ],
      "source": [
        "# ver valores unicos de las variables\n",
        "df['genre'].unique()"
      ]
    },
    {
      "cell_type": "code",
      "execution_count": 26,
      "metadata": {
        "colab": {
          "base_uri": "https://localhost:8080/"
        },
        "id": "zb-9qHiFUAuX",
        "outputId": "ab3ff868-b97a-4938-8eee-7a929908ec9a"
      },
      "outputs": [
        {
          "data": {
            "text/plain": [
              "array(['PG-13', 'R', 'PG', 'G', 'Not Rated', 'Unrated', 'NC-17', 'TV-MA',\n",
              "       nan], dtype=object)"
            ]
          },
          "execution_count": 26,
          "metadata": {},
          "output_type": "execute_result"
        }
      ],
      "source": [
        "df['rating'].unique()"
      ]
    },
    {
      "cell_type": "markdown",
      "metadata": {
        "id": "GdlXVaaLbD-L"
      },
      "source": [
        "### Codificación con `get_dummies()`"
      ]
    },
    {
      "cell_type": "code",
      "execution_count": 27,
      "metadata": {
        "id": "UXe3qPdjavtA"
      },
      "outputs": [],
      "source": [
        "# Codificamos la columna 'genre' creando una columna por cada categoría\n",
        "genre_dummies = pd.get_dummies(df['genre'], prefix='genre').astype(int)\n",
        "\n",
        "# Codificamos la columna 'rating' creando una columna por cada clasificación\n",
        "rating_dummies = pd.get_dummies(df['rating'], prefix='rating').astype(int)\n",
        "\n",
        "# Unimos las nuevas columnas al DataFrame original\n",
        "df = pd.concat([df, genre_dummies, rating_dummies], axis=1)"
      ]
    },
    {
      "cell_type": "code",
      "execution_count": 28,
      "metadata": {
        "colab": {
          "base_uri": "https://localhost:8080/",
          "height": 150
        },
        "id": "8p9cpKuGX9pN",
        "outputId": "4d4da71b-f507-4566-c5da-32f754171b8b"
      },
      "outputs": [
        {
          "data": {
            "text/html": [
              "<div>\n",
              "<style scoped>\n",
              "    .dataframe tbody tr th:only-of-type {\n",
              "        vertical-align: middle;\n",
              "    }\n",
              "\n",
              "    .dataframe tbody tr th {\n",
              "        vertical-align: top;\n",
              "    }\n",
              "\n",
              "    .dataframe thead th {\n",
              "        text-align: right;\n",
              "    }\n",
              "</style>\n",
              "<table border=\"1\" class=\"dataframe\">\n",
              "  <thead>\n",
              "    <tr style=\"text-align: right;\">\n",
              "      <th></th>\n",
              "      <th>genre</th>\n",
              "      <th>genre_Action</th>\n",
              "      <th>genre_Adventure</th>\n",
              "      <th>genre_Animation</th>\n",
              "      <th>genre_Biography</th>\n",
              "      <th>genre_Comedy</th>\n",
              "      <th>genre_Crime</th>\n",
              "      <th>genre_Drama</th>\n",
              "      <th>genre_Fantasy</th>\n",
              "      <th>genre_Horror</th>\n",
              "      <th>genre_Mystery</th>\n",
              "      <th>genre_Romance</th>\n",
              "      <th>genre_Sci-Fi</th>\n",
              "      <th>genre_Thriller</th>\n",
              "    </tr>\n",
              "  </thead>\n",
              "  <tbody>\n",
              "    <tr>\n",
              "      <th>0</th>\n",
              "      <td>Adventure</td>\n",
              "      <td>0</td>\n",
              "      <td>1</td>\n",
              "      <td>0</td>\n",
              "      <td>0</td>\n",
              "      <td>0</td>\n",
              "      <td>0</td>\n",
              "      <td>0</td>\n",
              "      <td>0</td>\n",
              "      <td>0</td>\n",
              "      <td>0</td>\n",
              "      <td>0</td>\n",
              "      <td>0</td>\n",
              "      <td>0</td>\n",
              "    </tr>\n",
              "    <tr>\n",
              "      <th>1</th>\n",
              "      <td>Comedy</td>\n",
              "      <td>0</td>\n",
              "      <td>0</td>\n",
              "      <td>0</td>\n",
              "      <td>0</td>\n",
              "      <td>1</td>\n",
              "      <td>0</td>\n",
              "      <td>0</td>\n",
              "      <td>0</td>\n",
              "      <td>0</td>\n",
              "      <td>0</td>\n",
              "      <td>0</td>\n",
              "      <td>0</td>\n",
              "      <td>0</td>\n",
              "    </tr>\n",
              "  </tbody>\n",
              "</table>\n",
              "</div>"
            ],
            "text/plain": [
              "       genre  genre_Action  genre_Adventure  genre_Animation  genre_Biography  \\\n",
              "0  Adventure             0                1                0                0   \n",
              "1     Comedy             0                0                0                0   \n",
              "\n",
              "   genre_Comedy  genre_Crime  genre_Drama  genre_Fantasy  genre_Horror  \\\n",
              "0             0            0            0              0             0   \n",
              "1             1            0            0              0             0   \n",
              "\n",
              "   genre_Mystery  genre_Romance  genre_Sci-Fi  genre_Thriller  \n",
              "0              0              0             0               0  \n",
              "1              0              0             0               0  "
            ]
          },
          "execution_count": 28,
          "metadata": {},
          "output_type": "execute_result"
        }
      ],
      "source": [
        "# Mostramos las nuevas columnas para verificar que se crearon correctamente\n",
        "df.filter(like='genre').head(2)\n"
      ]
    },
    {
      "cell_type": "code",
      "execution_count": 29,
      "metadata": {
        "colab": {
          "base_uri": "https://localhost:8080/",
          "height": 112
        },
        "id": "ia60Iz8DX9kv",
        "outputId": "5454d813-a12f-4b31-cfc9-b01e2e673ecc"
      },
      "outputs": [
        {
          "data": {
            "text/html": [
              "<div>\n",
              "<style scoped>\n",
              "    .dataframe tbody tr th:only-of-type {\n",
              "        vertical-align: middle;\n",
              "    }\n",
              "\n",
              "    .dataframe tbody tr th {\n",
              "        vertical-align: top;\n",
              "    }\n",
              "\n",
              "    .dataframe thead th {\n",
              "        text-align: right;\n",
              "    }\n",
              "</style>\n",
              "<table border=\"1\" class=\"dataframe\">\n",
              "  <thead>\n",
              "    <tr style=\"text-align: right;\">\n",
              "      <th></th>\n",
              "      <th>rating_G</th>\n",
              "      <th>rating_NC-17</th>\n",
              "      <th>rating_Not Rated</th>\n",
              "      <th>rating_PG</th>\n",
              "      <th>rating_PG-13</th>\n",
              "      <th>rating_R</th>\n",
              "      <th>rating_TV-MA</th>\n",
              "      <th>rating_Unrated</th>\n",
              "    </tr>\n",
              "  </thead>\n",
              "  <tbody>\n",
              "    <tr>\n",
              "      <th>0</th>\n",
              "      <td>0</td>\n",
              "      <td>0</td>\n",
              "      <td>0</td>\n",
              "      <td>0</td>\n",
              "      <td>1</td>\n",
              "      <td>0</td>\n",
              "      <td>0</td>\n",
              "      <td>0</td>\n",
              "    </tr>\n",
              "    <tr>\n",
              "      <th>1</th>\n",
              "      <td>0</td>\n",
              "      <td>0</td>\n",
              "      <td>0</td>\n",
              "      <td>0</td>\n",
              "      <td>0</td>\n",
              "      <td>1</td>\n",
              "      <td>0</td>\n",
              "      <td>0</td>\n",
              "    </tr>\n",
              "  </tbody>\n",
              "</table>\n",
              "</div>"
            ],
            "text/plain": [
              "   rating_G  rating_NC-17  rating_Not Rated  rating_PG  rating_PG-13  \\\n",
              "0         0             0                 0          0             1   \n",
              "1         0             0                 0          0             0   \n",
              "\n",
              "   rating_R  rating_TV-MA  rating_Unrated  \n",
              "0         0             0               0  \n",
              "1         1             0               0  "
            ]
          },
          "execution_count": 29,
          "metadata": {},
          "output_type": "execute_result"
        }
      ],
      "source": [
        "# Mostramos algunas de las nuevas columnas para verificar que se crearon correctamente\n",
        "df.filter(like='rating_').head(2)\n"
      ]
    },
    {
      "cell_type": "markdown",
      "metadata": {
        "id": "lWDarQtxeLqZ"
      },
      "source": [
        "## 📌 __Visualizaciones Univariadas__\n",
        "---"
      ]
    },
    {
      "cell_type": "markdown",
      "metadata": {
        "id": "aHs_eMaVePxV"
      },
      "source": [
        "### 📊 A. Distribución de favorabilidad (`positive_ratio`)\n",
        "\n",
        "Para evaluar cómo fue recibida emocionalmente cada película/tráiler, analizamos la distribución de la variable `positive_ratio`.\n",
        "\n",
        "Utilizamos un histograma para visualizar su distribución.\n",
        "\n",
        "### Qué buscamos con el gráfico?\n",
        "Ver cuántos trailers tienen ciertos niveles de comentarios positivos.\n",
        "\n",
        "- El eje X representa la proporción de comentarios positivos (de 0 a 1).\n",
        "- El eje Y indica cuántos trailers tienen esa proporción (frecuencia).\n",
        "\n",
        "**Preguntas clave**:\n",
        "- ¿La mayoría de los trailers tiene buena recepción?\n",
        "- ¿Existen trailers con muy baja proporción de comentarios positivos?\n"
      ]
    },
    {
      "cell_type": "code",
      "execution_count": 30,
      "metadata": {
        "colab": {
          "base_uri": "https://localhost:8080/",
          "height": 806
        },
        "id": "SnavszgAX9gr",
        "outputId": "9c7d7401-598b-4fe7-8635-824ebc62653c"
      },
      "outputs": [
        {
          "data": {
            "image/png": "[encoded data removed]",
            "text/plain": [
              "<Figure size 800x500 with 1 Axes>"
            ]
          },
          "metadata": {},
          "output_type": "display_data"
        },
        {
          "data": {
            "text/plain": [
              "count    1105.000000\n",
              "mean        0.423606\n",
              "std         0.103801\n",
              "min         0.000000\n",
              "25%         0.364964\n",
              "50%         0.424000\n",
              "75%         0.485944\n",
              "max         1.000000\n",
              "Name: positive_ratio, dtype: float64"
            ]
          },
          "execution_count": 30,
          "metadata": {},
          "output_type": "execute_result"
        }
      ],
      "source": [
        "# Histograma con KDE\n",
        "plt.figure(figsize=(8, 5))\n",
        "sns.histplot(df['positive_ratio'], bins=30, kde=True, color='skyblue')\n",
        "plt.title('Distribución de la Favorabilidad (Proporción de Comentarios Positivos)')\n",
        "plt.xlabel('Proporción de Comentarios Positivos')\n",
        "plt.ylabel('Frecuencia')\n",
        "plt.grid(True)\n",
        "plt.show()\n",
        "\n",
        "# Estadísticas descriptivas\n",
        "df['positive_ratio'].describe()"
      ]
    },
    {
      "cell_type": "markdown",
      "metadata": {
        "id": "f3o9hRNEfyGA"
      },
      "source": [
        "---\n"
      ]
    },
    {
      "cell_type": "markdown",
      "metadata": {
        "id": "9rpjzACOf4u-"
      },
      "source": [
        "### 📊 B. Frecuencia por género (`genre`)\n",
        "\n",
        "* Aquí analizamos cuántas películas hay por género en el dataset.\n",
        "* Esto nos permite ver cuáles son los tipos de películas más comunes.\n",
        "\n",
        "Usamos un gráfico de barras, que muestra para cada género cuántos trailers hay.\n",
        "\n",
        "**Preguntas clave**:\n",
        "- ¿Qué géneros predominan en la muestra?\n",
        "- ¿Hay géneros poco representados?\n"
      ]
    },
    {
      "cell_type": "code",
      "execution_count": 31,
      "metadata": {
        "colab": {
          "base_uri": "https://localhost:8080/",
          "height": 1000
        },
        "id": "ZV2rYrpOX9cU",
        "outputId": "23b2cbfa-d753-43ab-e6cf-dd69697a678f"
      },
      "outputs": [
        {
          "name": "stderr",
          "output_type": "stream",
          "text": [
            "C:\\Users\\JUAN DIAZ\\AppData\\Local\\Temp\\ipykernel_10688\\82992851.py:2: FutureWarning: \n",
            "\n",
            "Passing `palette` without assigning `hue` is deprecated and will be removed in v0.14.0. Assign the `x` variable to `hue` and set `legend=False` for the same effect.\n",
            "\n",
            "  sns.countplot(data=df, x='genre', order=df['genre'].value_counts().index, palette='pastel')\n"
          ]
        },
        {
          "data": {
            "image/png": "[encoded data removed]",
            "text/plain": [
              "<Figure size 1000x500 with 1 Axes>"
            ]
          },
          "metadata": {},
          "output_type": "display_data"
        },
        {
          "data": {
            "text/plain": [
              "genre\n",
              "Action       296\n",
              "Comedy       264\n",
              "Drama        214\n",
              "Crime         86\n",
              "Horror        73\n",
              "Biography     73\n",
              "Adventure     62\n",
              "Animation     30\n",
              "Mystery        2\n",
              "Sci-Fi         2\n",
              "Thriller       1\n",
              "Fantasy        1\n",
              "Romance        1\n",
              "Name: count, dtype: int64"
            ]
          },
          "execution_count": 31,
          "metadata": {},
          "output_type": "execute_result"
        }
      ],
      "source": [
        "plt.figure(figsize=(10, 5))\n",
        "sns.countplot(data=df, x='genre', order=df['genre'].value_counts().index, palette='pastel')\n",
        "plt.title('Cantidad de Películas por Género')\n",
        "plt.xlabel('Género')\n",
        "plt.ylabel('Cantidad')\n",
        "plt.xticks(rotation=45)\n",
        "plt.grid(axis='y')\n",
        "plt.show()\n",
        "\n",
        "# Ver los valores\n",
        "df['genre'].value_counts()\n"
      ]
    },
    {
      "cell_type": "markdown",
      "metadata": {
        "id": "MjH1lsCyh6-u"
      },
      "source": [
        "## 📌 Visualizaciones Bivariadas\n",
        "---"
      ]
    },
    {
      "cell_type": "markdown",
      "metadata": {
        "id": "XoERdmzaiwkB"
      },
      "source": [
        "### 📊 A. Promedio de comentarios positivos por género\n",
        "\n",
        "Analizamos el promedio de favorabilidad (`positive_ratio`) para cada género.\n",
        "\n",
        "Esto permite comparar cuáles géneros son mejor recibidos en general.\n",
        "\n",
        "**¿Qué observamos?**\n",
        "- Algunos géneros tienen promedios más altos de comentarios positivos.\n",
        "- Otros tienen una recepción más neutral o baja.\n",
        "- Comparar la percepción emocional del público según el tipo de película.\n"
      ]
    },
    {
      "cell_type": "code",
      "execution_count": 32,
      "metadata": {
        "colab": {
          "base_uri": "https://localhost:8080/",
          "height": 628
        },
        "id": "FIT-Am59X9ZX",
        "outputId": "c9ce0322-844d-4fd0-85ae-f11c4e3f9b8b"
      },
      "outputs": [
        {
          "name": "stderr",
          "output_type": "stream",
          "text": [
            "C:\\Users\\JUAN DIAZ\\AppData\\Local\\Temp\\ipykernel_10688\\1883391773.py:6: FutureWarning: \n",
            "\n",
            "Passing `palette` without assigning `hue` is deprecated and will be removed in v0.14.0. Assign the `x` variable to `hue` and set `legend=False` for the same effect.\n",
            "\n",
            "  sns.barplot(x=genre_mean.index, y=genre_mean.values, palette='pastel')\n"
          ]
        },
        {
          "data": {
            "image/png": "[encoded data removed]",
            "text/plain": [
              "<Figure size 1000x500 with 1 Axes>"
            ]
          },
          "metadata": {},
          "output_type": "display_data"
        }
      ],
      "source": [
        "# Calculamos el promedio de comentarios positivos por género\n",
        "genre_mean = df.groupby('genre')['positive_ratio'].mean().sort_values(ascending=False)\n",
        "\n",
        "# Gráfico de barras\n",
        "plt.figure(figsize=(10, 5))\n",
        "sns.barplot(x=genre_mean.index, y=genre_mean.values, palette='pastel')\n",
        "plt.title('Promedio de Comentarios Positivos por Género')\n",
        "plt.xlabel('Género')\n",
        "plt.ylabel('Proporción Promedio de Comentarios Positivos')\n",
        "plt.xticks(rotation=45)\n",
        "plt.grid(axis='y')\n",
        "plt.show()\n"
      ]
    }
  ],
  "metadata": {
    "colab": {
      "collapsed_sections": [
        "nlGQpYEs6GlW",
        "cc2RzGUINJN-"
      ],
      "provenance": [],
      "toc_visible": true
    },
    "kernelspec": {
      "display_name": "base",
      "language": "python",
      "name": "python3"
    },
    "language_info": {
      "codemirror_mode": {
        "name": "ipython",
        "version": 3
      },
      "file_extension": ".py",
      "mimetype": "text/x-python",
      "name": "python",
      "nbconvert_exporter": "python",
      "pygments_lexer": "ipython3",
      "version": "3.12.4"
    }
  },
  "nbformat": 4,
  "nbformat_minor": 0
}
